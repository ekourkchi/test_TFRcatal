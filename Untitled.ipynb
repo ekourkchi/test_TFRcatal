{
 "cells": [
  {
   "cell_type": "code",
   "execution_count": 12,
   "metadata": {},
   "outputs": [],
   "source": [
    "import sys\n",
    "import time\n",
    "import os\n",
    "import subprocess\n",
    "import math\n",
    "import matplotlib.pyplot as plt\n",
    "import numpy as np\n",
    "import pylab as py\n",
    "import random\n",
    "import pandas as pd\n",
    "from matplotlib import gridspec\n",
    "from scipy import polyval, polyfit\n",
    "from scipy.optimize import curve_fit\n",
    "from datetime import datetime\n",
    "import time\n",
    "from scipy.stats import linregress\n",
    "from scipy import interpolate\n",
    "from scipy import polyval, polyfit\n",
    "from scipy import odr\n",
    "# from ltsfit.lts_linefit import lts_linefit\n",
    "from astropy.table import Table, Column"
   ]
  },
  {
   "cell_type": "code",
   "execution_count": 19,
   "metadata": {},
   "outputs": [
    {
     "data": {
      "text/html": [
       "<div>\n",
       "<style scoped>\n",
       "    .dataframe tbody tr th:only-of-type {\n",
       "        vertical-align: middle;\n",
       "    }\n",
       "\n",
       "    .dataframe tbody tr th {\n",
       "        vertical-align: top;\n",
       "    }\n",
       "\n",
       "    .dataframe thead th {\n",
       "        text-align: right;\n",
       "    }\n",
       "</style>\n",
       "<table border=\"1\" class=\"dataframe\">\n",
       "  <thead>\n",
       "    <tr style=\"text-align: right;\">\n",
       "      <th></th>\n",
       "      <th>flag</th>\n",
       "      <th>DM_75</th>\n",
       "      <th>DM_av</th>\n",
       "      <th>DMriz_fid</th>\n",
       "      <th>DMriz_err</th>\n",
       "      <th>DM1_fid</th>\n",
       "      <th>DM1_err</th>\n",
       "      <th>PGC1</th>\n",
       "      <th>Nest</th>\n",
       "      <th>logMs_riz</th>\n",
       "      <th>...</th>\n",
       "      <th>sgl</th>\n",
       "      <th>sgb</th>\n",
       "      <th>Nkt</th>\n",
       "      <th>N15</th>\n",
       "      <th>sglg</th>\n",
       "      <th>sgbg</th>\n",
       "      <th>Vhg</th>\n",
       "      <th>Vlsg</th>\n",
       "      <th>V3kg</th>\n",
       "      <th>fg</th>\n",
       "    </tr>\n",
       "    <tr>\n",
       "      <th>PGC</th>\n",
       "      <th></th>\n",
       "      <th></th>\n",
       "      <th></th>\n",
       "      <th></th>\n",
       "      <th></th>\n",
       "      <th></th>\n",
       "      <th></th>\n",
       "      <th></th>\n",
       "      <th></th>\n",
       "      <th></th>\n",
       "      <th></th>\n",
       "      <th></th>\n",
       "      <th></th>\n",
       "      <th></th>\n",
       "      <th></th>\n",
       "      <th></th>\n",
       "      <th></th>\n",
       "      <th></th>\n",
       "      <th></th>\n",
       "      <th></th>\n",
       "      <th></th>\n",
       "    </tr>\n",
       "  </thead>\n",
       "  <tbody>\n",
       "    <tr>\n",
       "      <th>2</th>\n",
       "      <td>1</td>\n",
       "      <td>34.11</td>\n",
       "      <td>34.57</td>\n",
       "      <td></td>\n",
       "      <td></td>\n",
       "      <td>34.57</td>\n",
       "      <td>0.28</td>\n",
       "      <td>73150.0</td>\n",
       "      <td>200275</td>\n",
       "      <td></td>\n",
       "      <td>...</td>\n",
       "      <td>341.6440</td>\n",
       "      <td>20.7388</td>\n",
       "      <td>0</td>\n",
       "      <td>7</td>\n",
       "      <td>341.4922</td>\n",
       "      <td>20.7395</td>\n",
       "      <td>5194</td>\n",
       "      <td>5486</td>\n",
       "      <td>4916</td>\n",
       "      <td>1.013</td>\n",
       "    </tr>\n",
       "    <tr>\n",
       "      <th>4</th>\n",
       "      <td>1</td>\n",
       "      <td>33.72</td>\n",
       "      <td>33.49</td>\n",
       "      <td>33.44</td>\n",
       "      <td>0.19</td>\n",
       "      <td>33.54</td>\n",
       "      <td>0.19</td>\n",
       "      <td>120.0</td>\n",
       "      <td>202766</td>\n",
       "      <td>9.213</td>\n",
       "      <td>...</td>\n",
       "      <td>316.0587</td>\n",
       "      <td>18.4514</td>\n",
       "      <td>0</td>\n",
       "      <td>0</td>\n",
       "      <td>316.0587</td>\n",
       "      <td>18.4514</td>\n",
       "      <td>4458</td>\n",
       "      <td>4706</td>\n",
       "      <td>4109</td>\n",
       "      <td>1.011</td>\n",
       "    </tr>\n",
       "    <tr>\n",
       "      <th>12</th>\n",
       "      <td>1</td>\n",
       "      <td>34.61</td>\n",
       "      <td>35.05</td>\n",
       "      <td></td>\n",
       "      <td></td>\n",
       "      <td>35.05</td>\n",
       "      <td>0.23</td>\n",
       "      <td>12.0</td>\n",
       "      <td>210177</td>\n",
       "      <td></td>\n",
       "      <td>...</td>\n",
       "      <td>286.4249</td>\n",
       "      <td>11.3511</td>\n",
       "      <td>0</td>\n",
       "      <td>1</td>\n",
       "      <td>286.4249</td>\n",
       "      <td>11.3510</td>\n",
       "      <td>6532</td>\n",
       "      <td>6669</td>\n",
       "      <td>6179</td>\n",
       "      <td>1.016</td>\n",
       "    </tr>\n",
       "    <tr>\n",
       "      <th>16</th>\n",
       "      <td>1</td>\n",
       "      <td>34.30</td>\n",
       "      <td>34.70</td>\n",
       "      <td>34.66</td>\n",
       "      <td>0.26</td>\n",
       "      <td>34.74</td>\n",
       "      <td>0.25</td>\n",
       "      <td>16.0</td>\n",
       "      <td>211419</td>\n",
       "      <td>10.212</td>\n",
       "      <td>...</td>\n",
       "      <td>287.6119</td>\n",
       "      <td>11.7030</td>\n",
       "      <td>0</td>\n",
       "      <td>1</td>\n",
       "      <td>287.6120</td>\n",
       "      <td>11.7030</td>\n",
       "      <td>5709</td>\n",
       "      <td>5851</td>\n",
       "      <td>5354</td>\n",
       "      <td>1.014</td>\n",
       "    </tr>\n",
       "    <tr>\n",
       "      <th>55</th>\n",
       "      <td>1</td>\n",
       "      <td>33.89</td>\n",
       "      <td>33.71</td>\n",
       "      <td>33.70</td>\n",
       "      <td>0.26</td>\n",
       "      <td>33.71</td>\n",
       "      <td>0.25</td>\n",
       "      <td>55.0</td>\n",
       "      <td></td>\n",
       "      <td>9.184</td>\n",
       "      <td>...</td>\n",
       "      <td>327.0996</td>\n",
       "      <td>19.7763</td>\n",
       "      <td>0</td>\n",
       "      <td>0</td>\n",
       "      <td>327.0996</td>\n",
       "      <td>19.7763</td>\n",
       "      <td>4779</td>\n",
       "      <td>5052</td>\n",
       "      <td>4454</td>\n",
       "      <td>1.012</td>\n",
       "    </tr>\n",
       "  </tbody>\n",
       "</table>\n",
       "<p>5 rows × 44 columns</p>\n",
       "</div>"
      ],
      "text/plain": [
       "     flag          DM_75  DM_av      DMriz_fid      DMriz_err        DM1_fid  \\\n",
       "PGC                                                                            \n",
       "2       1         34.11   34.57                                       34.57    \n",
       "4       1         33.72   33.49         33.44           0.19          33.54    \n",
       "12      1         34.61   35.05                                       35.05    \n",
       "16      1         34.30   34.70         34.66           0.26          34.74    \n",
       "55      1         33.89   33.71         33.70           0.26          33.71    \n",
       "\n",
       "           DM1_err     PGC1        Nest       logMs_riz  ...       sgl  \\\n",
       "PGC                                                      ...             \n",
       "2            0.28   73150.0     200275                   ...  341.6440   \n",
       "4            0.19     120.0     202766           9.213   ...  316.0587   \n",
       "12           0.23      12.0     210177                   ...  286.4249   \n",
       "16           0.25      16.0     211419          10.212   ...  287.6119   \n",
       "55           0.25      55.0                      9.184   ...  327.0996   \n",
       "\n",
       "         sgb Nkt  N15      sglg     sgbg   Vhg  Vlsg  V3kg     fg  \n",
       "PGC                                                                \n",
       "2    20.7388   0    7  341.4922  20.7395  5194  5486  4916  1.013  \n",
       "4    18.4514   0    0  316.0587  18.4514  4458  4706  4109  1.011  \n",
       "12   11.3511   0    1  286.4249  11.3510  6532  6669  6179  1.016  \n",
       "16   11.7030   0    1  287.6120  11.7030  5709  5851  5354  1.014  \n",
       "55   19.7763   0    0  327.0996  19.7763  4779  5052  4454  1.012  \n",
       "\n",
       "[5 rows x 44 columns]"
      ]
     },
     "execution_count": 19,
     "metadata": {},
     "output_type": "execute_result"
    }
   ],
   "source": [
    "df = pd.read_csv(\"BTFR_CF4_Dist_bar\", sep='|')\n",
    "\n",
    "for col in df.columns:\n",
    "    newcol = col.strip()\n",
    "    df.rename(columns={col:newcol}, inplace=True)\n",
    "df = df.set_index(\"PGC\")\n",
    "df.head()"
   ]
  },
  {
   "cell_type": "code",
   "execution_count": 14,
   "metadata": {},
   "outputs": [
    {
     "data": {
      "text/plain": [
       "Index([u'flag', u'DM_75', u'DM_av', u'DMriz_fid', u'DMriz_err', u'DM1_fid',\n",
       "       u'DM1_err', u'PGC1', u'Nest', u'logMs_riz', u'logMs_W1', u'logMgas',\n",
       "       u'logMb', u'Vh', u'Vls', u'V3k', u'f_cosmology', u'logWimx',\n",
       "       u'logWimx_e', u'F21', u'eF21', u'inc', u'inc_e', u'ggg', u'rrr', u'iii',\n",
       "       u'zzz', u'w1', u'Qs', u'Qw', u'RA', u'DEC', u'gl', u'gb', u'sgl',\n",
       "       u'sgb', u'Nkt', u'N15', u'sglg', u'sgbg', u'Vhg', u'Vlsg', u'V3kg',\n",
       "       u'fg'],\n",
       "      dtype='object')"
      ]
     },
     "execution_count": 14,
     "metadata": {},
     "output_type": "execute_result"
    }
   ],
   "source": [
    "df.columns"
   ]
  },
  {
   "cell_type": "code",
   "execution_count": 34,
   "metadata": {},
   "outputs": [],
   "source": [
    "Y = pd.to_numeric(df['DM_75'],errors='coerce')-pd.to_numeric(df['DM_av'],errors='coerce')\n",
    "Y=Y.values\n",
    "X = df.Vls.values"
   ]
  },
  {
   "cell_type": "code",
   "execution_count": 37,
   "metadata": {},
   "outputs": [
    {
     "data": {
      "text/plain": [
       "[<matplotlib.lines.Line2D at 0x7f5701761dd0>]"
      ]
     },
     "execution_count": 37,
     "metadata": {},
     "output_type": "execute_result"
    },
    {
     "data": {
      "image/png": "[encoded data removed]",
      "text/plain": [
       "<Figure size 500x500 with 1 Axes>"
      ]
     },
     "metadata": {
      "needs_background": "light"
     },
     "output_type": "display_data"
    }
   ],
   "source": [
    "fig = py.figure(figsize=(5,5), dpi=100)    \n",
    "fig.subplots_adjust(wspace=0, top=0.9, bottom=0.12, left=0.05, right=0.98)\n",
    "ax = fig.add_subplot(111)\n",
    "\n",
    "\n",
    "\n",
    "\n",
    "ax.plot(X, Y, 'k.', alpha=0.05)\n",
    "\n",
    "for i in np.arange(0,20000,1000):\n",
    "    xp = []\n",
    "    yp = []\n",
    "    for ii in range(len(X)):\n",
    "        xi = X[ii]\n",
    "        if xi>=i and xi<i+1000:\n",
    "            xp.append(xi)\n",
    "            yp.append(Y[ii])\n",
    "    if len(xp)>0:\n",
    "        ax.errorbar(np.median(xp), np.median(yp), yerr=np.std(yp), xerr=np.std(xp), fmt='o', \n",
    "                    color='r', ms=6)   \n",
    "#         print(np.mean(xp), np.median(yp))\n",
    "\n",
    "        \n",
    "# ax.set_xlabel(r'$V_{CMB} \\/\\/[km/s]$', fontsize=18) \n",
    "# ax.set_ylabel(r'$DM_{75} - DM_{fid}\\/\\/[mag]$', fontsize=18)\n",
    "# # ax.set_ylabel(r'$log \\/ (D_{75}/D_{fid})$', fontsize=18)\n",
    "\n",
    "ax.plot([0,20000], [0,0], ':', color='purple')\n",
    "\n",
    "# set_axes(ax, (0,20000), (-2.5,2.5), fontsize=12)\n",
    "\n",
    "# ax.set_title(\"BTFR: i-band\")"
   ]
  },
  {
   "cell_type": "code",
   "execution_count": 38,
   "metadata": {},
   "outputs": [
    {
     "data": {
      "text/plain": [
       "array([34.11, 33.72, 34.61, ..., 32.82, 34.85, 34.01])"
      ]
     },
     "execution_count": 38,
     "metadata": {},
     "output_type": "execute_result"
    }
   ],
   "source": [
    "pd.to_numeric(df['DM_75'],errors='coerce').values"
   ]
  },
  {
   "cell_type": "code",
   "execution_count": 42,
   "metadata": {},
   "outputs": [
    {
     "name": "stderr",
     "output_type": "stream",
     "text": [
      "/media/Data/Home/anaconda3/envs/py2/lib/python2.7/site-packages/ipykernel_launcher.py:4: RuntimeWarning: invalid value encountered in log10\n",
      "  after removing the cwd from sys.path.\n"
     ]
    },
    {
     "data": {
      "text/plain": [
       "array([34.11080028, 33.71713017, 34.6137532 , ..., 32.82224451,\n",
       "       34.85137476, 34.00507101])"
      ]
     },
     "execution_count": 42,
     "metadata": {},
     "output_type": "execute_result"
    }
   ],
   "source": [
    "D75 = df.V3kg * df.fg / 75.\n",
    "D75 = D75.values\n",
    "\n",
    "5*np.log10(D75)+25"
   ]
  },
  {
   "cell_type": "code",
   "execution_count": null,
   "metadata": {},
   "outputs": [],
   "source": [
    "df['Mb'] = df.Ms_i + 1.33*(10**(np.log10(df.Mass_HI)"
   ]
  }
 ],
 "metadata": {
  "kernelspec": {
   "display_name": "Python 2",
   "language": "python",
   "name": "python2"
  },
  "language_info": {
   "codemirror_mode": {
    "name": "ipython",
    "version": 2
   },
   "file_extension": ".py",
   "mimetype": "text/x-python",
   "name": "python",
   "nbconvert_exporter": "python",
   "pygments_lexer": "ipython2",
   "version": "2.7.18"
  }
 },
 "nbformat": 4,
 "nbformat_minor": 2
}
