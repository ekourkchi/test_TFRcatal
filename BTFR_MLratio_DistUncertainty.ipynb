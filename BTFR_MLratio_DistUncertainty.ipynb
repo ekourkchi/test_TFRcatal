{
 "cells": [
  {
   "cell_type": "code",
   "execution_count": 1,
   "metadata": {},
   "outputs": [],
   "source": [
    "import sys\n",
    "import time\n",
    "import os\n",
    "import subprocess\n",
    "import math\n",
    "import matplotlib.pyplot as plt\n",
    "import numpy as np\n",
    "import pylab as py\n",
    "import random\n",
    "import pandas as pd\n",
    "from matplotlib import gridspec\n",
    "from scipy import polyval, polyfit\n",
    "from scipy.optimize import curve_fit\n",
    "from datetime import datetime\n",
    "import time\n",
    "import corner\n",
    "import emcee\n",
    "from scipy.stats import linregress\n",
    "from scipy import interpolate\n",
    "from scipy import polyval, polyfit\n",
    "from scipy import odr\n",
    "from ltsfit.lts_linefit import lts_linefit"
   ]
  },
  {
   "cell_type": "code",
   "execution_count": 2,
   "metadata": {},
   "outputs": [],
   "source": [
    "####################################### Set Axes\n",
    "def set_axes(ax, xlim=None, ylim=None, fontsize=16, twinx=True, twiny=True, minor=True, inout='in'):\n",
    "        \n",
    "        if not ylim is None:\n",
    "            ax.set_ylim(ylim)\n",
    "        else:\n",
    "            ylim = ax.get_ylim() \n",
    "            \n",
    "        if not xlim is None:    \n",
    "            ax.set_xlim(xlim) \n",
    "        else:\n",
    "            xlim = ax.get_xlim()\n",
    "            \n",
    "        ax.tick_params(which='major', length=6, width=1., direction=inout)\n",
    "#         if minor:\n",
    "        ax.tick_params(which='minor', length=3, color='#000033', width=1.0, direction=inout)  \n",
    "        \n",
    "        if twiny:\n",
    "            y_ax = ax.twinx()\n",
    "            y_ax.set_ylim(ylim)\n",
    "            y_ax.set_yticklabels([])\n",
    "            y_ax.minorticks_on()\n",
    "            y_ax.tick_params(which='major', length=6, width=1., direction=inout)\n",
    "            if minor:\n",
    "                y_ax.tick_params(which='minor', length=3, color='#000033', width=1.0, direction=inout) \n",
    "        \n",
    "        if twinx:\n",
    "            x_ax = ax.twiny()\n",
    "            x_ax.set_xlim(xlim)\n",
    "            x_ax.set_xticklabels([])\n",
    "            x_ax.minorticks_on()\n",
    "            x_ax.tick_params(which='major', length=6, width=1.0, direction=inout)\n",
    "            if minor:\n",
    "                x_ax.tick_params(which='minor', length=3, color='#000033', width=1.0, direction=inout)     \n",
    "\n",
    "        for tick in ax.xaxis.get_major_ticks():\n",
    "                    tick.label.set_fontsize(fontsize) \n",
    "        for tick in ax.yaxis.get_major_ticks():\n",
    "                    tick.label.set_fontsize(fontsize) \n",
    "        \n",
    "        return x_ax, y_ax"
   ]
  },
  {
   "cell_type": "code",
   "execution_count": 3,
   "metadata": {},
   "outputs": [],
   "source": [
    "def getDM(D, mag, gi, Wlog, F21, alfa, beta, slope, zp, V3k, mc):\n",
    "    \n",
    "    Mb = 10**(slope*(Wlog-2.5)+zp)\n",
    "    \n",
    "    M21 = 2.356E5 * F21 * (D**2)\n",
    "    M21 = 10**(np.log10(M21) + mc*V3k)\n",
    "    \n",
    "    logX = beta + alfa*gi   \n",
    "    Mag  = -2.5*(np.log10(Mb - 1.33*M21) - logX)\n",
    "       \n",
    "    DM = mag - Mag\n",
    "    D = 10**((DM-25)/5)\n",
    "    \n",
    "    return D\n",
    "\n",
    "\n",
    "def interpol(X, Y):\n",
    "    \n",
    "    X0 = X[~np.isnan(Y)]\n",
    "    Y0 = Y[~np.isnan(Y)]\n",
    "      \n",
    "    N = len(X0)\n",
    "    \n",
    "    for i in range(N-1):\n",
    "        \n",
    "        if Y0[i]<0 and Y0[i+1]>0:\n",
    "            break\n",
    "\n",
    "    return -Y0[i]*(X0[i+1]-X0[i])/(Y0[i+1]-Y0[i])+X0[i]"
   ]
  },
  {
   "cell_type": "code",
   "execution_count": 4,
   "metadata": {},
   "outputs": [
    {
     "name": "stdout",
     "output_type": "stream",
     "text": [
      "2021-07-23 13:45:24.734375\n"
     ]
    },
    {
     "name": "stderr",
     "output_type": "stream",
     "text": [
      "<ipython-input-3-12b7b85dcfe7>:9: RuntimeWarning: invalid value encountered in log10\n",
      "  Mag  = -2.5*(np.log10(Mb - 1.33*M21) - logX)\n"
     ]
    },
    {
     "name": "stdout",
     "output_type": "stream",
     "text": [
      "Execution time:\n",
      "0:00:00.496073\n"
     ]
    }
   ],
   "source": [
    "t1 =  datetime.now()\n",
    "print(t1)\n",
    "\n",
    "\n",
    "# model parameters\n",
    "alfa0 = 0.510\n",
    "beta0 = 1.619\n",
    "slope0 = 3.421\n",
    "zp0 = 10.41065\n",
    "mc = -5.967700322195351e-05\n",
    "\n",
    "# galaxy parameters pgc = 4 -> DM=33.41\n",
    "mag = 15.12\n",
    "gi = 15.59 - 15.12\n",
    "Wlog = 2.189\n",
    "F21 = 1.91\n",
    "V3k = 4706\n",
    "\n",
    "# galaxy parameters pgc = 70  -> DM=35.36\n",
    "mag = 13.24         # -> 0.05\n",
    "gi = 13.87 - 13.24  # -> 0.05*sqrt(2.)\n",
    "Wlog = 2.636        # -> Wlog_e\n",
    "F21 = 8.33          # -> F21e\n",
    "V3k = 7040          \n",
    "\n",
    "npzName = \"MLratio_i_gi.npz\"\n",
    "npzfile = np.load(npzName)\n",
    "samples_ = npzfile['arr_0']\n",
    "samples_ = samples_[np.where(samples_[:,0]>0.48)]\n",
    "samples_ = samples_[(samples_[:,1]>1.56)&(samples_[:,1]<1.68)]\n",
    "samples_ = samples_[np.where(samples_[:,3]>10.31)]\n",
    "\n",
    "alfa = samples_[:,0]\n",
    "beta = samples_[:,1]\n",
    "slope = samples_[:,2]\n",
    "zp = samples_[:,3]-10.363+zp0\n",
    "\n",
    "Nsimul = 1000\n",
    "DM = np.zeros(Nsimul) + np.nan\n",
    "n, m = samples_.shape\n",
    "\n",
    "for i in range(Nsimul):\n",
    "    \n",
    "    try:\n",
    "    \n",
    "        j = np.random.randint(n)\n",
    "        D = np.arange(0.5,800,0.5)\n",
    "        delta = D - getDM(D, \\\n",
    "                          np.random.normal(mag, 0.05), \\\n",
    "                          np.random.normal(gi, 0.05*1.4142), \\\n",
    "                          np.random.normal(Wlog, 0.005), \\\n",
    "                          np.random.normal(F21, 0.012), \\\n",
    "                          alfa[j], beta[j], \\\n",
    "                          slope[j], np.random.normal(zp[j], 0.033), \\\n",
    "                          V3k, \\\n",
    "                          np.random.normal(mc, 7.03018543e-07))\n",
    "\n",
    "        D = D[~np.isnan(delta)]\n",
    "        delta = delta[~np.isnan(delta)]\n",
    "\n",
    "        try:\n",
    "            D0 = interpol(D, delta)\n",
    "            DM[i] = 5*np.log10(D0)+25\n",
    "        except:\n",
    "            D0 = np.max(D[delta<0])\n",
    "            DM[i] = 5*np.log10(D0)+25\n",
    "    except:\n",
    "        pass\n",
    "    \n",
    "\n",
    "###########################################\n",
    "t2 =  datetime.now()\n",
    "print(\"Execution time:\")\n",
    "print(t2-t1)"
   ]
  },
  {
   "cell_type": "code",
   "execution_count": 5,
   "metadata": {},
   "outputs": [
    {
     "data": {
      "text/plain": [
       "0.12068038487017489"
      ]
     },
     "execution_count": 5,
     "metadata": {},
     "output_type": "execute_result"
    }
   ],
   "source": [
    "np.std(DM)"
   ]
  },
  {
   "cell_type": "code",
   "execution_count": 6,
   "metadata": {},
   "outputs": [
    {
     "data": {
      "text/plain": [
       "35.35570134605284"
      ]
     },
     "execution_count": 6,
     "metadata": {},
     "output_type": "execute_result"
    }
   ],
   "source": [
    "np.mean(DM)"
   ]
  },
  {
   "cell_type": "code",
   "execution_count": null,
   "metadata": {},
   "outputs": [],
   "source": []
  },
  {
   "cell_type": "code",
   "execution_count": null,
   "metadata": {},
   "outputs": [],
   "source": []
  }
 ],
 "metadata": {
  "kernelspec": {
   "display_name": "Python 3",
   "language": "python",
   "name": "python3"
  },
  "language_info": {
   "codemirror_mode": {
    "name": "ipython",
    "version": 3
   },
   "file_extension": ".py",
   "mimetype": "text/x-python",
   "name": "python",
   "nbconvert_exporter": "python",
   "pygments_lexer": "ipython3",
   "version": "3.8.5"
  }
 },
 "nbformat": 4,
 "nbformat_minor": 4
}
