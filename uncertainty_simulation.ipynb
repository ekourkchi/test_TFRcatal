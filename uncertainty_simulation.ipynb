{
 "cells": [
  {
   "cell_type": "code",
   "execution_count": 1,
   "metadata": {},
   "outputs": [],
   "source": [
    "import sys\n",
    "import time\n",
    "import os\n",
    "import subprocess\n",
    "import math\n",
    "import matplotlib.pyplot as plt\n",
    "import numpy as np\n",
    "import pylab as py\n",
    "import random\n",
    "import pandas as pd\n",
    "from matplotlib import gridspec\n",
    "from scipy import polyval, polyfit\n",
    "from scipy.optimize import curve_fit\n",
    "from datetime import datetime\n",
    "import time\n",
    "import corner\n",
    "import emcee\n",
    "from scipy.stats import linregress\n",
    "from scipy import interpolate\n",
    "from scipy import polyval, polyfit\n",
    "from scipy import odr\n",
    "from ltsfit.lts_linefit import lts_linefit"
   ]
  },
  {
   "cell_type": "code",
   "execution_count": 2,
   "metadata": {},
   "outputs": [],
   "source": [
    "####################################### Set Axes\n",
    "def set_axes(ax, xlim=None, ylim=None, fontsize=16, twinx=True, twiny=True, minor=True, inout='in'):\n",
    "        \n",
    "        if not ylim is None:\n",
    "            ax.set_ylim(ylim)\n",
    "        else:\n",
    "            ylim = ax.get_ylim() \n",
    "            \n",
    "        if not xlim is None:    \n",
    "            ax.set_xlim(xlim) \n",
    "        else:\n",
    "            xlim = ax.get_xlim()\n",
    "            \n",
    "        ax.tick_params(which='major', length=6, width=1., direction=inout)\n",
    "#         if minor:\n",
    "        ax.tick_params(which='minor', length=3, color='#000033', width=1.0, direction=inout)  \n",
    "        \n",
    "        if twiny:\n",
    "            y_ax = ax.twinx()\n",
    "            y_ax.set_ylim(ylim)\n",
    "            y_ax.set_yticklabels([])\n",
    "            y_ax.minorticks_on()\n",
    "            y_ax.tick_params(which='major', length=6, width=1., direction=inout)\n",
    "            if minor:\n",
    "                y_ax.tick_params(which='minor', length=3, color='#000033', width=1.0, direction=inout) \n",
    "        \n",
    "        if twinx:\n",
    "            x_ax = ax.twiny()\n",
    "            x_ax.set_xlim(xlim)\n",
    "            x_ax.set_xticklabels([])\n",
    "            x_ax.minorticks_on()\n",
    "            x_ax.tick_params(which='major', length=6, width=1.0, direction=inout)\n",
    "            if minor:\n",
    "                x_ax.tick_params(which='minor', length=3, color='#000033', width=1.0, direction=inout)     \n",
    "\n",
    "        for tick in ax.xaxis.get_major_ticks():\n",
    "                    tick.label.set_fontsize(fontsize) \n",
    "        for tick in ax.yaxis.get_major_ticks():\n",
    "                    tick.label.set_fontsize(fontsize) \n",
    "        \n",
    "        return x_ax, y_ax"
   ]
  },
  {
   "cell_type": "code",
   "execution_count": 3,
   "metadata": {},
   "outputs": [
    {
     "name": "stdout",
     "output_type": "stream",
     "text": [
      "Index(['flag', 'DM_av', 'eDM', 'DM_riz', 'eDM_riz', 'DM_W1', 'eDM_W1', 'DM_75',\n",
      "       '1PGC', 'Nest', 'logMs_riz', 'logMs_W1', 'logM_gas', 'logMb', 'Vhel',\n",
      "       'Vls', 'v3k', 'f', 'lgWmxi', 'elgWi', 'F21', 'eF21', 'inc', 'einc',\n",
      "       'g***', 'r***', 'i***', 'z***', 'w1***', 'Qs', 'Qw', 'RA', 'DE',\n",
      "       'GLong', 'GLat', 'SGL', 'SGB', 'Nkt', 'N15', 'SGLg', 'SGBg', 'Vhg',\n",
      "       'Vlsg', 'V3kg', 'fg'],\n",
      "      dtype='object')\n",
      "10153\n"
     ]
    },
    {
     "data": {
      "text/html": [
       "<div>\n",
       "<style scoped>\n",
       "    .dataframe tbody tr th:only-of-type {\n",
       "        vertical-align: middle;\n",
       "    }\n",
       "\n",
       "    .dataframe tbody tr th {\n",
       "        vertical-align: top;\n",
       "    }\n",
       "\n",
       "    .dataframe thead th {\n",
       "        text-align: right;\n",
       "    }\n",
       "</style>\n",
       "<table border=\"1\" class=\"dataframe\">\n",
       "  <thead>\n",
       "    <tr style=\"text-align: right;\">\n",
       "      <th></th>\n",
       "      <th>flag</th>\n",
       "      <th>DM_av</th>\n",
       "      <th>eDM</th>\n",
       "      <th>DM_riz</th>\n",
       "      <th>eDM_riz</th>\n",
       "      <th>DM_W1</th>\n",
       "      <th>eDM_W1</th>\n",
       "      <th>DM_75</th>\n",
       "      <th>1PGC</th>\n",
       "      <th>Nest</th>\n",
       "      <th>...</th>\n",
       "      <th>SGL</th>\n",
       "      <th>SGB</th>\n",
       "      <th>Nkt</th>\n",
       "      <th>N15</th>\n",
       "      <th>SGLg</th>\n",
       "      <th>SGBg</th>\n",
       "      <th>Vhg</th>\n",
       "      <th>Vlsg</th>\n",
       "      <th>V3kg</th>\n",
       "      <th>fg</th>\n",
       "    </tr>\n",
       "    <tr>\n",
       "      <th>PGC</th>\n",
       "      <th></th>\n",
       "      <th></th>\n",
       "      <th></th>\n",
       "      <th></th>\n",
       "      <th></th>\n",
       "      <th></th>\n",
       "      <th></th>\n",
       "      <th></th>\n",
       "      <th></th>\n",
       "      <th></th>\n",
       "      <th></th>\n",
       "      <th></th>\n",
       "      <th></th>\n",
       "      <th></th>\n",
       "      <th></th>\n",
       "      <th></th>\n",
       "      <th></th>\n",
       "      <th></th>\n",
       "      <th></th>\n",
       "      <th></th>\n",
       "      <th></th>\n",
       "    </tr>\n",
       "  </thead>\n",
       "  <tbody>\n",
       "    <tr>\n",
       "      <th>2</th>\n",
       "      <td>1</td>\n",
       "      <td>34.57</td>\n",
       "      <td>0.45</td>\n",
       "      <td>NaN</td>\n",
       "      <td>NaN</td>\n",
       "      <td>34.57</td>\n",
       "      <td>0.28</td>\n",
       "      <td>34.11</td>\n",
       "      <td>73150</td>\n",
       "      <td>200275.0</td>\n",
       "      <td>...</td>\n",
       "      <td>341.6440</td>\n",
       "      <td>20.7388</td>\n",
       "      <td>0</td>\n",
       "      <td>7</td>\n",
       "      <td>341.4922</td>\n",
       "      <td>20.7395</td>\n",
       "      <td>5194</td>\n",
       "      <td>5486</td>\n",
       "      <td>4916</td>\n",
       "      <td>1.013</td>\n",
       "    </tr>\n",
       "    <tr>\n",
       "      <th>4</th>\n",
       "      <td>1</td>\n",
       "      <td>33.49</td>\n",
       "      <td>0.38</td>\n",
       "      <td>33.44</td>\n",
       "      <td>0.19</td>\n",
       "      <td>33.54</td>\n",
       "      <td>0.19</td>\n",
       "      <td>33.72</td>\n",
       "      <td>120</td>\n",
       "      <td>202766.0</td>\n",
       "      <td>...</td>\n",
       "      <td>316.0587</td>\n",
       "      <td>18.4514</td>\n",
       "      <td>0</td>\n",
       "      <td>0</td>\n",
       "      <td>316.0587</td>\n",
       "      <td>18.4514</td>\n",
       "      <td>4458</td>\n",
       "      <td>4706</td>\n",
       "      <td>4109</td>\n",
       "      <td>1.011</td>\n",
       "    </tr>\n",
       "    <tr>\n",
       "      <th>12</th>\n",
       "      <td>1</td>\n",
       "      <td>35.05</td>\n",
       "      <td>0.41</td>\n",
       "      <td>NaN</td>\n",
       "      <td>NaN</td>\n",
       "      <td>35.05</td>\n",
       "      <td>0.23</td>\n",
       "      <td>34.61</td>\n",
       "      <td>12</td>\n",
       "      <td>210177.0</td>\n",
       "      <td>...</td>\n",
       "      <td>286.4249</td>\n",
       "      <td>11.3511</td>\n",
       "      <td>0</td>\n",
       "      <td>1</td>\n",
       "      <td>286.4249</td>\n",
       "      <td>11.3510</td>\n",
       "      <td>6532</td>\n",
       "      <td>6669</td>\n",
       "      <td>6179</td>\n",
       "      <td>1.016</td>\n",
       "    </tr>\n",
       "    <tr>\n",
       "      <th>16</th>\n",
       "      <td>1</td>\n",
       "      <td>34.70</td>\n",
       "      <td>0.43</td>\n",
       "      <td>34.66</td>\n",
       "      <td>0.26</td>\n",
       "      <td>34.74</td>\n",
       "      <td>0.25</td>\n",
       "      <td>34.30</td>\n",
       "      <td>16</td>\n",
       "      <td>211419.0</td>\n",
       "      <td>...</td>\n",
       "      <td>287.6119</td>\n",
       "      <td>11.7030</td>\n",
       "      <td>0</td>\n",
       "      <td>1</td>\n",
       "      <td>287.6120</td>\n",
       "      <td>11.7030</td>\n",
       "      <td>5709</td>\n",
       "      <td>5851</td>\n",
       "      <td>5354</td>\n",
       "      <td>1.014</td>\n",
       "    </tr>\n",
       "    <tr>\n",
       "      <th>55</th>\n",
       "      <td>1</td>\n",
       "      <td>33.71</td>\n",
       "      <td>0.43</td>\n",
       "      <td>33.70</td>\n",
       "      <td>0.26</td>\n",
       "      <td>33.71</td>\n",
       "      <td>0.25</td>\n",
       "      <td>33.89</td>\n",
       "      <td>55</td>\n",
       "      <td>NaN</td>\n",
       "      <td>...</td>\n",
       "      <td>327.0996</td>\n",
       "      <td>19.7763</td>\n",
       "      <td>0</td>\n",
       "      <td>0</td>\n",
       "      <td>327.0996</td>\n",
       "      <td>19.7763</td>\n",
       "      <td>4779</td>\n",
       "      <td>5052</td>\n",
       "      <td>4454</td>\n",
       "      <td>1.012</td>\n",
       "    </tr>\n",
       "  </tbody>\n",
       "</table>\n",
       "<p>5 rows × 45 columns</p>\n",
       "</div>"
      ],
      "text/plain": [
       "     flag  DM_av   eDM  DM_riz  eDM_riz  DM_W1  eDM_W1  DM_75   1PGC  \\\n",
       "PGC                                                                    \n",
       "2       1  34.57  0.45     NaN      NaN  34.57    0.28  34.11  73150   \n",
       "4       1  33.49  0.38   33.44     0.19  33.54    0.19  33.72    120   \n",
       "12      1  35.05  0.41     NaN      NaN  35.05    0.23  34.61     12   \n",
       "16      1  34.70  0.43   34.66     0.26  34.74    0.25  34.30     16   \n",
       "55      1  33.71  0.43   33.70     0.26  33.71    0.25  33.89     55   \n",
       "\n",
       "         Nest  ...       SGL      SGB  Nkt  N15      SGLg     SGBg   Vhg  \\\n",
       "PGC            ...                                                         \n",
       "2    200275.0  ...  341.6440  20.7388    0    7  341.4922  20.7395  5194   \n",
       "4    202766.0  ...  316.0587  18.4514    0    0  316.0587  18.4514  4458   \n",
       "12   210177.0  ...  286.4249  11.3511    0    1  286.4249  11.3510  6532   \n",
       "16   211419.0  ...  287.6119  11.7030    0    1  287.6120  11.7030  5709   \n",
       "55        NaN  ...  327.0996  19.7763    0    0  327.0996  19.7763  4779   \n",
       "\n",
       "     Vlsg  V3kg     fg  \n",
       "PGC                     \n",
       "2    5486  4916  1.013  \n",
       "4    4706  4109  1.011  \n",
       "12   6669  6179  1.016  \n",
       "16   5851  5354  1.014  \n",
       "55   5052  4454  1.012  \n",
       "\n",
       "[5 rows x 45 columns]"
      ]
     },
     "execution_count": 3,
     "metadata": {},
     "output_type": "execute_result"
    }
   ],
   "source": [
    "# df = pd.read_csv(\"edd_cf4_refined.csv\", sep='|')\n",
    "df = pd.read_csv(\"btfr_brent_updated.csv\", sep='|')\n",
    "\n",
    "for col in df.columns:\n",
    "    newcol = col.strip()\n",
    "    df.rename(columns={col:newcol}, inplace=True)\n",
    "\n",
    "df = df.rename(columns={\"e_F21\":\"eF21\"})\n",
    "\n",
    "df = df.set_index(\"PGC\")\n",
    "print(df.columns)\n",
    "print(len(df))\n",
    "\n",
    "df.head()"
   ]
  },
  {
   "cell_type": "code",
   "execution_count": 4,
   "metadata": {},
   "outputs": [
    {
     "name": "stderr",
     "output_type": "stream",
     "text": [
      "/home/ehsan/anaconda3/lib/python3.8/site-packages/pandas/core/arraylike.py:364: RuntimeWarning: invalid value encountered in log10\n",
      "  result = getattr(ufunc, method)(*inputs, **kwargs)\n"
     ]
    }
   ],
   "source": [
    "df['Vmod'] = df.fg*df.Vlsg   # df.f*df.v3k # \n",
    "df['D75'] = df.Vmod / 75.\n",
    "df['logD75'] = np.log10(df.D75)\n",
    "df['DM_75'] = 5*df.logD75 + 25 \n",
    "df['Mg_75'] = df['g***'] - df.DM_75\n",
    "df['Mr_75'] = df['r***'] - df.DM_75\n",
    "df['Mi_75'] = df['i***'] - df.DM_75\n",
    "df['Mz_75'] = df['z***'] - df.DM_75\n",
    "df['M1_75'] = np.asarray([np.float64(x) for x in df['w1***'].values]) - df.DM_75.values\n",
    "\n",
    "df['gi'] = df['g***'] - df['i***']"
   ]
  },
  {
   "cell_type": "code",
   "execution_count": 5,
   "metadata": {},
   "outputs": [
    {
     "data": {
      "text/html": [
       "<div>\n",
       "<style scoped>\n",
       "    .dataframe tbody tr th:only-of-type {\n",
       "        vertical-align: middle;\n",
       "    }\n",
       "\n",
       "    .dataframe tbody tr th {\n",
       "        vertical-align: top;\n",
       "    }\n",
       "\n",
       "    .dataframe thead th {\n",
       "        text-align: right;\n",
       "    }\n",
       "</style>\n",
       "<table border=\"1\" class=\"dataframe\">\n",
       "  <thead>\n",
       "    <tr style=\"text-align: right;\">\n",
       "      <th></th>\n",
       "      <th>F</th>\n",
       "      <th>e_F</th>\n",
       "    </tr>\n",
       "    <tr>\n",
       "      <th>PGC</th>\n",
       "      <th></th>\n",
       "      <th></th>\n",
       "    </tr>\n",
       "  </thead>\n",
       "  <tbody>\n",
       "    <tr>\n",
       "      <th>4</th>\n",
       "      <td>1.96</td>\n",
       "      <td>0.07</td>\n",
       "    </tr>\n",
       "    <tr>\n",
       "      <th>6</th>\n",
       "      <td>1.13</td>\n",
       "      <td>0.09</td>\n",
       "    </tr>\n",
       "    <tr>\n",
       "      <th>10</th>\n",
       "      <td>2.47</td>\n",
       "      <td>0.06</td>\n",
       "    </tr>\n",
       "    <tr>\n",
       "      <th>20</th>\n",
       "      <td>2.30</td>\n",
       "      <td>0.11</td>\n",
       "    </tr>\n",
       "    <tr>\n",
       "      <th>28</th>\n",
       "      <td>2.49</td>\n",
       "      <td>0.11</td>\n",
       "    </tr>\n",
       "  </tbody>\n",
       "</table>\n",
       "</div>"
      ],
      "text/plain": [
       "        F   e_F\n",
       "PGC            \n",
       "4    1.96  0.07\n",
       "6    1.13  0.09\n",
       "10   2.47  0.06\n",
       "20   2.30  0.11\n",
       "28   2.49  0.11"
      ]
     },
     "execution_count": 5,
     "metadata": {},
     "output_type": "execute_result"
    }
   ],
   "source": [
    "df_alfa = pd.read_csv(\"ALFALFA.csv\", sep='|')\n",
    "for col in df.columns:\n",
    "    newcol = col.strip()\n",
    "    df.rename(columns={col:newcol}, inplace=True)\n",
    "\n",
    "df_alfa = df_alfa.set_index(\"PGC\")\n",
    "df_alfa = df_alfa[[\"F\", \"e_F\"]]\n",
    "df_alfa.head()"
   ]
  },
  {
   "cell_type": "code",
   "execution_count": 6,
   "metadata": {},
   "outputs": [
    {
     "data": {
      "text/html": [
       "<div>\n",
       "<style scoped>\n",
       "    .dataframe tbody tr th:only-of-type {\n",
       "        vertical-align: middle;\n",
       "    }\n",
       "\n",
       "    .dataframe tbody tr th {\n",
       "        vertical-align: top;\n",
       "    }\n",
       "\n",
       "    .dataframe thead th {\n",
       "        text-align: right;\n",
       "    }\n",
       "</style>\n",
       "<table border=\"1\" class=\"dataframe\">\n",
       "  <thead>\n",
       "    <tr style=\"text-align: right;\">\n",
       "      <th></th>\n",
       "      <th>Flux</th>\n",
       "    </tr>\n",
       "    <tr>\n",
       "      <th>PGC</th>\n",
       "      <th></th>\n",
       "    </tr>\n",
       "  </thead>\n",
       "  <tbody>\n",
       "    <tr>\n",
       "      <th>2</th>\n",
       "      <td>4.73</td>\n",
       "    </tr>\n",
       "    <tr>\n",
       "      <th>4</th>\n",
       "      <td>1.85</td>\n",
       "    </tr>\n",
       "    <tr>\n",
       "      <th>6</th>\n",
       "      <td>NaN</td>\n",
       "    </tr>\n",
       "    <tr>\n",
       "      <th>10</th>\n",
       "      <td>2.47</td>\n",
       "    </tr>\n",
       "    <tr>\n",
       "      <th>12</th>\n",
       "      <td>3.40</td>\n",
       "    </tr>\n",
       "  </tbody>\n",
       "</table>\n",
       "</div>"
      ],
      "text/plain": [
       "     Flux\n",
       "PGC      \n",
       "2    4.73\n",
       "4    1.85\n",
       "6     NaN\n",
       "10   2.47\n",
       "12   3.40"
      ]
     },
     "execution_count": 6,
     "metadata": {},
     "output_type": "execute_result"
    }
   ],
   "source": [
    "df_adhi = pd.read_csv(\"ADHI.csv\", sep='|')\n",
    "for col in df.columns:\n",
    "    newcol = col.strip()\n",
    "    df.rename(columns={col:newcol}, inplace=True)\n",
    "df_adhi = df_adhi.set_index(\"PGC\")\n",
    "df_adhi = df_adhi[[\"Flux\"]]\n",
    "\n",
    "df_adhi.head()"
   ]
  },
  {
   "cell_type": "code",
   "execution_count": 7,
   "metadata": {},
   "outputs": [
    {
     "data": {
      "text/html": [
       "<div>\n",
       "<style scoped>\n",
       "    .dataframe tbody tr th:only-of-type {\n",
       "        vertical-align: middle;\n",
       "    }\n",
       "\n",
       "    .dataframe tbody tr th {\n",
       "        vertical-align: top;\n",
       "    }\n",
       "\n",
       "    .dataframe thead th {\n",
       "        text-align: right;\n",
       "    }\n",
       "</style>\n",
       "<table border=\"1\" class=\"dataframe\">\n",
       "  <thead>\n",
       "    <tr style=\"text-align: right;\">\n",
       "      <th></th>\n",
       "      <th>flag</th>\n",
       "      <th>DM_av</th>\n",
       "      <th>eDM</th>\n",
       "      <th>DM_riz</th>\n",
       "      <th>eDM_riz</th>\n",
       "      <th>DM_W1</th>\n",
       "      <th>eDM_W1</th>\n",
       "      <th>DM_75</th>\n",
       "      <th>1PGC</th>\n",
       "      <th>Nest</th>\n",
       "      <th>...</th>\n",
       "      <th>logD75</th>\n",
       "      <th>Mg_75</th>\n",
       "      <th>Mr_75</th>\n",
       "      <th>Mi_75</th>\n",
       "      <th>Mz_75</th>\n",
       "      <th>M1_75</th>\n",
       "      <th>gi</th>\n",
       "      <th>F</th>\n",
       "      <th>e_F</th>\n",
       "      <th>Flux</th>\n",
       "    </tr>\n",
       "    <tr>\n",
       "      <th>PGC</th>\n",
       "      <th></th>\n",
       "      <th></th>\n",
       "      <th></th>\n",
       "      <th></th>\n",
       "      <th></th>\n",
       "      <th></th>\n",
       "      <th></th>\n",
       "      <th></th>\n",
       "      <th></th>\n",
       "      <th></th>\n",
       "      <th></th>\n",
       "      <th></th>\n",
       "      <th></th>\n",
       "      <th></th>\n",
       "      <th></th>\n",
       "      <th></th>\n",
       "      <th></th>\n",
       "      <th></th>\n",
       "      <th></th>\n",
       "      <th></th>\n",
       "      <th></th>\n",
       "    </tr>\n",
       "  </thead>\n",
       "  <tbody>\n",
       "    <tr>\n",
       "      <th>2</th>\n",
       "      <td>1</td>\n",
       "      <td>34.57</td>\n",
       "      <td>0.45</td>\n",
       "      <td>NaN</td>\n",
       "      <td>NaN</td>\n",
       "      <td>34.57</td>\n",
       "      <td>0.28</td>\n",
       "      <td>34.349020</td>\n",
       "      <td>73150</td>\n",
       "      <td>200275.0</td>\n",
       "      <td>...</td>\n",
       "      <td>1.869804</td>\n",
       "      <td>NaN</td>\n",
       "      <td>NaN</td>\n",
       "      <td>NaN</td>\n",
       "      <td>NaN</td>\n",
       "      <td>-22.459020</td>\n",
       "      <td>NaN</td>\n",
       "      <td>NaN</td>\n",
       "      <td>NaN</td>\n",
       "      <td>4.73</td>\n",
       "    </tr>\n",
       "    <tr>\n",
       "      <th>4</th>\n",
       "      <td>1</td>\n",
       "      <td>33.49</td>\n",
       "      <td>0.38</td>\n",
       "      <td>33.44</td>\n",
       "      <td>0.19</td>\n",
       "      <td>33.54</td>\n",
       "      <td>0.19</td>\n",
       "      <td>34.011709</td>\n",
       "      <td>120</td>\n",
       "      <td>202766.0</td>\n",
       "      <td>...</td>\n",
       "      <td>1.802342</td>\n",
       "      <td>-18.421709</td>\n",
       "      <td>-18.681709</td>\n",
       "      <td>-18.891709</td>\n",
       "      <td>-18.941709</td>\n",
       "      <td>-17.941709</td>\n",
       "      <td>0.47</td>\n",
       "      <td>1.96</td>\n",
       "      <td>0.07</td>\n",
       "      <td>1.85</td>\n",
       "    </tr>\n",
       "    <tr>\n",
       "      <th>12</th>\n",
       "      <td>1</td>\n",
       "      <td>35.05</td>\n",
       "      <td>0.41</td>\n",
       "      <td>NaN</td>\n",
       "      <td>NaN</td>\n",
       "      <td>35.05</td>\n",
       "      <td>0.23</td>\n",
       "      <td>34.779466</td>\n",
       "      <td>12</td>\n",
       "      <td>210177.0</td>\n",
       "      <td>...</td>\n",
       "      <td>1.955893</td>\n",
       "      <td>NaN</td>\n",
       "      <td>NaN</td>\n",
       "      <td>NaN</td>\n",
       "      <td>NaN</td>\n",
       "      <td>-21.189466</td>\n",
       "      <td>NaN</td>\n",
       "      <td>NaN</td>\n",
       "      <td>NaN</td>\n",
       "      <td>3.40</td>\n",
       "    </tr>\n",
       "    <tr>\n",
       "      <th>16</th>\n",
       "      <td>1</td>\n",
       "      <td>34.70</td>\n",
       "      <td>0.43</td>\n",
       "      <td>34.66</td>\n",
       "      <td>0.26</td>\n",
       "      <td>34.74</td>\n",
       "      <td>0.25</td>\n",
       "      <td>34.491034</td>\n",
       "      <td>16</td>\n",
       "      <td>211419.0</td>\n",
       "      <td>...</td>\n",
       "      <td>1.898207</td>\n",
       "      <td>-20.131034</td>\n",
       "      <td>-20.631034</td>\n",
       "      <td>-20.911034</td>\n",
       "      <td>-21.091034</td>\n",
       "      <td>-20.501034</td>\n",
       "      <td>0.78</td>\n",
       "      <td>NaN</td>\n",
       "      <td>NaN</td>\n",
       "      <td>1.19</td>\n",
       "    </tr>\n",
       "    <tr>\n",
       "      <th>55</th>\n",
       "      <td>1</td>\n",
       "      <td>33.71</td>\n",
       "      <td>0.43</td>\n",
       "      <td>33.70</td>\n",
       "      <td>0.26</td>\n",
       "      <td>33.71</td>\n",
       "      <td>0.25</td>\n",
       "      <td>34.167913</td>\n",
       "      <td>55</td>\n",
       "      <td>NaN</td>\n",
       "      <td>...</td>\n",
       "      <td>1.833583</td>\n",
       "      <td>-18.637913</td>\n",
       "      <td>-18.847913</td>\n",
       "      <td>-18.947913</td>\n",
       "      <td>-18.997913</td>\n",
       "      <td>-17.967913</td>\n",
       "      <td>0.31</td>\n",
       "      <td>NaN</td>\n",
       "      <td>NaN</td>\n",
       "      <td>4.30</td>\n",
       "    </tr>\n",
       "  </tbody>\n",
       "</table>\n",
       "<p>5 rows × 57 columns</p>\n",
       "</div>"
      ],
      "text/plain": [
       "     flag  DM_av   eDM  DM_riz  eDM_riz  DM_W1  eDM_W1      DM_75   1PGC  \\\n",
       "PGC                                                                        \n",
       "2       1  34.57  0.45     NaN      NaN  34.57    0.28  34.349020  73150   \n",
       "4       1  33.49  0.38   33.44     0.19  33.54    0.19  34.011709    120   \n",
       "12      1  35.05  0.41     NaN      NaN  35.05    0.23  34.779466     12   \n",
       "16      1  34.70  0.43   34.66     0.26  34.74    0.25  34.491034     16   \n",
       "55      1  33.71  0.43   33.70     0.26  33.71    0.25  34.167913     55   \n",
       "\n",
       "         Nest  ...    logD75      Mg_75      Mr_75      Mi_75      Mz_75  \\\n",
       "PGC            ...                                                         \n",
       "2    200275.0  ...  1.869804        NaN        NaN        NaN        NaN   \n",
       "4    202766.0  ...  1.802342 -18.421709 -18.681709 -18.891709 -18.941709   \n",
       "12   210177.0  ...  1.955893        NaN        NaN        NaN        NaN   \n",
       "16   211419.0  ...  1.898207 -20.131034 -20.631034 -20.911034 -21.091034   \n",
       "55        NaN  ...  1.833583 -18.637913 -18.847913 -18.947913 -18.997913   \n",
       "\n",
       "         M1_75    gi     F   e_F  Flux  \n",
       "PGC                                     \n",
       "2   -22.459020   NaN   NaN   NaN  4.73  \n",
       "4   -17.941709  0.47  1.96  0.07  1.85  \n",
       "12  -21.189466   NaN   NaN   NaN  3.40  \n",
       "16  -20.501034  0.78   NaN   NaN  1.19  \n",
       "55  -17.967913  0.31   NaN   NaN  4.30  \n",
       "\n",
       "[5 rows x 57 columns]"
      ]
     },
     "execution_count": 7,
     "metadata": {},
     "output_type": "execute_result"
    }
   ],
   "source": [
    "df = df.join(df_alfa, how='left')\n",
    "df = df.join(df_adhi, how='left')\n",
    "\n",
    "df = df.rename(columns={\"Vls\":\"V3k\"})\n",
    "\n",
    "df.head()"
   ]
  },
  {
   "cell_type": "code",
   "execution_count": 8,
   "metadata": {},
   "outputs": [
    {
     "name": "stderr",
     "output_type": "stream",
     "text": [
      "<ipython-input-8-69eae98da3b9>:4: SettingWithCopyWarning: \n",
      "A value is trying to be set on a copy of a slice from a DataFrame.\n",
      "Try using .loc[row_indexer,col_indexer] = value instead\n",
      "\n",
      "See the caveats in the documentation: https://pandas.pydata.org/pandas-docs/stable/user_guide/indexing.html#returning-a-view-versus-a-copy\n",
      "  dg['F21_'] = dg.apply(lambda X: X.F21_av if ~np.isnan(X.F21_av) else X.F21, axis=1)\n",
      "<ipython-input-8-69eae98da3b9>:5: SettingWithCopyWarning: \n",
      "A value is trying to be set on a copy of a slice from a DataFrame.\n",
      "Try using .loc[row_indexer,col_indexer] = value instead\n",
      "\n",
      "See the caveats in the documentation: https://pandas.pydata.org/pandas-docs/stable/user_guide/indexing.html#returning-a-view-versus-a-copy\n",
      "  dg['F21_e'] = dg.apply(lambda X: X.e_F if ~np.isnan(X.F) else X.eF21, axis=1)\n"
     ]
    },
    {
     "data": {
      "text/plain": [
       "10153"
      ]
     },
     "execution_count": 8,
     "metadata": {},
     "output_type": "execute_result"
    }
   ],
   "source": [
    "df['F21_av'] = df[[\"F\", \"Flux\"]].mean(axis=1)\n",
    "\n",
    "dg = df[[\"F21\", \"eF21\", \"F\", \"e_F\", \"Flux\", \"F21_av\"]]\n",
    "dg['F21_'] = dg.apply(lambda X: X.F21_av if ~np.isnan(X.F21_av) else X.F21, axis=1)\n",
    "dg['F21_e'] = dg.apply(lambda X: X.e_F if ~np.isnan(X.F) else X.eF21, axis=1)\n",
    "\n",
    "\n",
    "adhi_list = [5072, 9670, 49734, 51401, 1737674, 3091777, 5807477]\n",
    "dg.loc[adhi_list]['F21_'] = dg.loc[adhi_list].Flux   # using ADHI HI flux values\n",
    "\n",
    "\n",
    "len(dg)\n",
    "\n",
    "# df[\"F21\"] = dg.F21_\n",
    "# df[\"eF21\"] = dg.F21_e"
   ]
  },
  {
   "cell_type": "code",
   "execution_count": 9,
   "metadata": {},
   "outputs": [
    {
     "data": {
      "text/plain": [
       "10153"
      ]
     },
     "execution_count": 9,
     "metadata": {},
     "output_type": "execute_result"
    }
   ],
   "source": [
    "new_drop = pd.read_csv(\"drop_january2021.bar\", sep='|')\n",
    "\n",
    "df = df.drop(new_drop.PGC.values, errors='ignore')\n",
    "\n",
    "len(df)"
   ]
  },
  {
   "cell_type": "code",
   "execution_count": 10,
   "metadata": {},
   "outputs": [
    {
     "name": "stdout",
     "output_type": "stream",
     "text": [
      "45\n"
     ]
    },
    {
     "data": {
      "text/html": [
       "<div>\n",
       "<style scoped>\n",
       "    .dataframe tbody tr th:only-of-type {\n",
       "        vertical-align: middle;\n",
       "    }\n",
       "\n",
       "    .dataframe tbody tr th {\n",
       "        vertical-align: top;\n",
       "    }\n",
       "\n",
       "    .dataframe thead th {\n",
       "        text-align: right;\n",
       "    }\n",
       "</style>\n",
       "<table border=\"1\" class=\"dataframe\">\n",
       "  <thead>\n",
       "    <tr style=\"text-align: right;\">\n",
       "      <th></th>\n",
       "      <th>So</th>\n",
       "      <th>Name</th>\n",
       "      <th>dm19</th>\n",
       "      <th>inc</th>\n",
       "      <th>lgWmxi</th>\n",
       "      <th>eWi</th>\n",
       "      <th>Mu</th>\n",
       "      <th>Mg</th>\n",
       "      <th>Mr</th>\n",
       "      <th>Mi</th>\n",
       "      <th>...</th>\n",
       "      <th>i***</th>\n",
       "      <th>z***</th>\n",
       "      <th>Dist</th>\n",
       "      <th>Mass_HI</th>\n",
       "      <th>gi</th>\n",
       "      <th>logMs_i</th>\n",
       "      <th>logMs_r</th>\n",
       "      <th>logMs_z</th>\n",
       "      <th>logMs_riz</th>\n",
       "      <th>Ms_riz</th>\n",
       "    </tr>\n",
       "    <tr>\n",
       "      <th>PGC</th>\n",
       "      <th></th>\n",
       "      <th></th>\n",
       "      <th></th>\n",
       "      <th></th>\n",
       "      <th></th>\n",
       "      <th></th>\n",
       "      <th></th>\n",
       "      <th></th>\n",
       "      <th></th>\n",
       "      <th></th>\n",
       "      <th></th>\n",
       "      <th></th>\n",
       "      <th></th>\n",
       "      <th></th>\n",
       "      <th></th>\n",
       "      <th></th>\n",
       "      <th></th>\n",
       "      <th></th>\n",
       "      <th></th>\n",
       "      <th></th>\n",
       "      <th></th>\n",
       "    </tr>\n",
       "  </thead>\n",
       "  <tbody>\n",
       "    <tr>\n",
       "      <th>21396</th>\n",
       "      <td>2</td>\n",
       "      <td>NGC2403</td>\n",
       "      <td>27.514</td>\n",
       "      <td>58</td>\n",
       "      <td>2.454</td>\n",
       "      <td>0.026</td>\n",
       "      <td>-18.56</td>\n",
       "      <td>-19.43</td>\n",
       "      <td>-19.704</td>\n",
       "      <td>-19.854</td>\n",
       "      <td>...</td>\n",
       "      <td>7.66</td>\n",
       "      <td>7.64</td>\n",
       "      <td>3.182731</td>\n",
       "      <td>3.273213e+09</td>\n",
       "      <td>0.42</td>\n",
       "      <td>9.7748</td>\n",
       "      <td>9.7716</td>\n",
       "      <td>9.75322</td>\n",
       "      <td>9.78272</td>\n",
       "      <td>6.063453e+09</td>\n",
       "    </tr>\n",
       "    <tr>\n",
       "      <th>28357</th>\n",
       "      <td>2</td>\n",
       "      <td>NGC3021</td>\n",
       "      <td>32.327</td>\n",
       "      <td>58</td>\n",
       "      <td>2.454</td>\n",
       "      <td>0.022</td>\n",
       "      <td>-19.11</td>\n",
       "      <td>-20.11</td>\n",
       "      <td>-20.617</td>\n",
       "      <td>-20.897</td>\n",
       "      <td>...</td>\n",
       "      <td>11.43</td>\n",
       "      <td>11.30</td>\n",
       "      <td>29.201153</td>\n",
       "      <td>2.535331e+09</td>\n",
       "      <td>0.79</td>\n",
       "      <td>10.3807</td>\n",
       "      <td>10.3773</td>\n",
       "      <td>10.38499</td>\n",
       "      <td>10.39824</td>\n",
       "      <td>2.501727e+10</td>\n",
       "    </tr>\n",
       "    <tr>\n",
       "      <th>32192</th>\n",
       "      <td>2</td>\n",
       "      <td>NGC3368</td>\n",
       "      <td>30.165</td>\n",
       "      <td>52</td>\n",
       "      <td>2.630</td>\n",
       "      <td>0.024</td>\n",
       "      <td>-19.29</td>\n",
       "      <td>-20.67</td>\n",
       "      <td>-21.355</td>\n",
       "      <td>-21.715</td>\n",
       "      <td>...</td>\n",
       "      <td>8.45</td>\n",
       "      <td>8.31</td>\n",
       "      <td>10.789467</td>\n",
       "      <td>2.248998e+09</td>\n",
       "      <td>1.04</td>\n",
       "      <td>10.8354</td>\n",
       "      <td>10.8350</td>\n",
       "      <td>10.83144</td>\n",
       "      <td>10.85944</td>\n",
       "      <td>7.235024e+10</td>\n",
       "    </tr>\n",
       "    <tr>\n",
       "      <th>32207</th>\n",
       "      <td>2</td>\n",
       "      <td>NGC3370</td>\n",
       "      <td>32.149</td>\n",
       "      <td>56</td>\n",
       "      <td>2.514</td>\n",
       "      <td>0.021</td>\n",
       "      <td>-19.43</td>\n",
       "      <td>-20.22</td>\n",
       "      <td>-20.589</td>\n",
       "      <td>-20.779</td>\n",
       "      <td>...</td>\n",
       "      <td>11.37</td>\n",
       "      <td>11.30</td>\n",
       "      <td>26.902956</td>\n",
       "      <td>4.424994e+09</td>\n",
       "      <td>0.56</td>\n",
       "      <td>10.2162</td>\n",
       "      <td>10.2166</td>\n",
       "      <td>10.20776</td>\n",
       "      <td>10.22776</td>\n",
       "      <td>1.689507e+10</td>\n",
       "    </tr>\n",
       "    <tr>\n",
       "      <th>34695</th>\n",
       "      <td>2</td>\n",
       "      <td>NGC3627</td>\n",
       "      <td>30.125</td>\n",
       "      <td>64</td>\n",
       "      <td>2.605</td>\n",
       "      <td>0.015</td>\n",
       "      <td>-20.04</td>\n",
       "      <td>-21.16</td>\n",
       "      <td>-21.715</td>\n",
       "      <td>-21.985</td>\n",
       "      <td>...</td>\n",
       "      <td>8.14</td>\n",
       "      <td>7.99</td>\n",
       "      <td>10.592537</td>\n",
       "      <td>1.206747e+09</td>\n",
       "      <td>0.82</td>\n",
       "      <td>10.8312</td>\n",
       "      <td>10.8360</td>\n",
       "      <td>10.84202</td>\n",
       "      <td>10.84952</td>\n",
       "      <td>7.071638e+10</td>\n",
       "    </tr>\n",
       "  </tbody>\n",
       "</table>\n",
       "<p>5 rows × 39 columns</p>\n",
       "</div>"
      ],
      "text/plain": [
       "       So        Name    dm19  inc  lgWmxi    eWi     Mu     Mg      Mr  \\\n",
       "PGC                                                                       \n",
       "21396   2    NGC2403   27.514   58   2.454  0.026 -18.56 -19.43 -19.704   \n",
       "28357   2    NGC3021   32.327   58   2.454  0.022 -19.11 -20.11 -20.617   \n",
       "32192   2    NGC3368   30.165   52   2.630  0.024 -19.29 -20.67 -21.355   \n",
       "32207   2    NGC3370   32.149   56   2.514  0.021 -19.43 -20.22 -20.589   \n",
       "34695   2    NGC3627   30.125   64   2.605  0.015 -20.04 -21.16 -21.715   \n",
       "\n",
       "           Mi  ...   i***   z***       Dist       Mass_HI    gi  logMs_i  \\\n",
       "PGC            ...                                                         \n",
       "21396 -19.854  ...   7.66   7.64   3.182731  3.273213e+09  0.42   9.7748   \n",
       "28357 -20.897  ...  11.43  11.30  29.201153  2.535331e+09  0.79  10.3807   \n",
       "32192 -21.715  ...   8.45   8.31  10.789467  2.248998e+09  1.04  10.8354   \n",
       "32207 -20.779  ...  11.37  11.30  26.902956  4.424994e+09  0.56  10.2162   \n",
       "34695 -21.985  ...   8.14   7.99  10.592537  1.206747e+09  0.82  10.8312   \n",
       "\n",
       "       logMs_r   logMs_z  logMs_riz        Ms_riz  \n",
       "PGC                                                \n",
       "21396   9.7716   9.75322    9.78272  6.063453e+09  \n",
       "28357  10.3773  10.38499   10.39824  2.501727e+10  \n",
       "32192  10.8350  10.83144   10.85944  7.235024e+10  \n",
       "32207  10.2166  10.20776   10.22776  1.689507e+10  \n",
       "34695  10.8360  10.84202   10.84952  7.071638e+10  \n",
       "\n",
       "[5 rows x 39 columns]"
      ]
     },
     "execution_count": 10,
     "metadata": {},
     "output_type": "execute_result"
    }
   ],
   "source": [
    "calib = pd.read_csv(\"../calibrators/allzpa_labels.csv\", sep=',')\n",
    "\n",
    "for col in calib.columns:\n",
    "    newcol = col.strip()\n",
    "    calib.rename(columns={col:newcol}, inplace=True)\n",
    "    \n",
    "calib_weird = [68535, 28378, 42081, 39461, 44536]\n",
    "calib['Name']=calib.apply(lambda x: None if x.PGC in calib_weird else x.Name, axis=1)\n",
    "            \n",
    "calib.set_index('PGC', inplace=True)\n",
    "\n",
    "calib = calib.join(df[[\"V3k\", \"Vmod\", \"Qs\", \"Qw\", \"F21\", 'eF21', 'elgWi', 'g***', 'r***', 'i***', 'z***']]).dropna()\n",
    "calib = calib[(calib.Qs>2) & (calib['i']>0)]\n",
    "\n",
    "calib['Dist'] = 10**((calib.dm19-25)/5.)\n",
    "calib['Mass_HI'] = 2.356E5 * calib.F21 * (calib.Dist**2)\n",
    "\n",
    "\n",
    "for waveband in ['g***','r***','i***','z***']:\n",
    "    calib[waveband] = calib.apply(lambda x: x[waveband] if x[waveband]!=0 else np.nan, axis=1)\n",
    "for waveband in ['g','r','i','z']:\n",
    "    calib[waveband+'***'] = calib.apply(lambda x: x[waveband+'***'] if x[waveband]!=0 else np.nan, axis=1)\n",
    "\n",
    "calib['Mr'] = calib['r***']-calib.dm19\n",
    "calib['Mi'] = calib['i***']-calib.dm19\n",
    "calib['Mz'] = calib['z***']-calib.dm19\n",
    "calib['gi'] = calib[\"g***\"]-calib['i***']\n",
    "\n",
    "\n",
    "calib['logMs_i']  = 1.619 + 0.510*calib.gi - 0.4*calib['Mi']\n",
    "calib['logMs_r']  = 1.617 + 0.650*calib.gi - 0.4*calib['Mr']\n",
    "calib['logMs_z']  = 1.610 + 0.461*calib.gi - 0.4*calib['Mz']\n",
    "\n",
    "\n",
    "alfa = 0.536\n",
    "beta = 1.616\n",
    "calib['logMs_riz'] = beta + alfa*calib.gi - 0.4*calib.Mi\n",
    "\n",
    "calib['Ms_riz'] = 10**calib.logMs_riz\n",
    "calib = calib.dropna()\n",
    "\n",
    "print(len(calib))\n",
    "calib.head()"
   ]
  },
  {
   "cell_type": "code",
   "execution_count": 11,
   "metadata": {},
   "outputs": [],
   "source": [
    "def linear(x, m, b):\n",
    "    return m*x+b\n",
    "\n",
    "def linear_m(x, m):\n",
    "    return m*x\n",
    "\n",
    "mc = -6.16e-05\n",
    "def HI_corrector(mc, bc, V3k):\n",
    "    return mc*V3k+bc"
   ]
  },
  {
   "cell_type": "code",
   "execution_count": 12,
   "metadata": {},
   "outputs": [],
   "source": [
    "def rms(x, a, b, c, x0):\n",
    "    \n",
    "    y = a*x**2+b*x+c\n",
    "    \n",
    "    x0 = x0+7500\n",
    "    \n",
    "    y0 = a*x0**2+b*x0+c\n",
    "    \n",
    "    try:\n",
    "        y[x>x0] = y0\n",
    "    except:\n",
    "        if x>x0:\n",
    "            y=y0\n",
    "    \n",
    "    return y\n",
    "    "
   ]
  },
  {
   "cell_type": "code",
   "execution_count": 13,
   "metadata": {},
   "outputs": [],
   "source": [
    "Cadj_rms = [ 6.93729862e-09, -8.50583081e-05,  5.64263060e-01, -1.36940313e+03]"
   ]
  },
  {
   "cell_type": "markdown",
   "metadata": {},
   "source": [
    "## Adding Uncertainty\n",
    "\n",
    "Here, we attempt to model the uncertainties that origiante from different sources, namely:\n",
    "\n",
    "- stellar mass to light ratio \n",
    "- "
   ]
  },
  {
   "cell_type": "code",
   "execution_count": 14,
   "metadata": {},
   "outputs": [
    {
     "name": "stderr",
     "output_type": "stream",
     "text": [
      "/home/ehsan/anaconda3/lib/python3.8/site-packages/pandas/core/arraylike.py:364: RuntimeWarning: divide by zero encountered in log10\n",
      "  result = getattr(ufunc, method)(*inputs, **kwargs)\n",
      "/home/ehsan/anaconda3/lib/python3.8/site-packages/pandas/core/arraylike.py:364: RuntimeWarning: invalid value encountered in log10\n",
      "  result = getattr(ufunc, method)(*inputs, **kwargs)\n"
     ]
    }
   ],
   "source": [
    "gamma = np.log10(0.5) + 0.4*5.91\n",
    "df['logMs_W1'] = gamma - 0.4*df['M1_75']\n",
    "df['Ms_W1'] = 10**df.logMs_W1\n",
    "\n",
    "df['Mass_HI'] = 2.356E5 * df.F21 * (df.D75**2)\n",
    "df['eMass_HI'] = 2.356E5 * df.eF21 * (df.D75**2)\n",
    "\n",
    "df['logMs_r']  = 1.617 + 0.650*df.gi - 0.4*df['Mr_75']\n",
    "df['logMs_i']  = 1.619 + 0.510*df.gi - 0.4*df['Mi_75']\n",
    "df['logMs_z']  = 1.610 + 0.461*df.gi - 0.4*df['Mz_75']\n",
    "\n",
    "alfa = 0.536\n",
    "beta = 1.616\n",
    "df['logMs_riz'] = beta + alfa*df.gi - 0.4*df[[\"Mr_75\", \"Mi_75\", \"Mz_75\"]].mean(axis=1)\n",
    "df['Ms_riz'] = 10**df.logMs_riz\n",
    "\n",
    "\n",
    "df['Mb'] = df.Ms_riz + 1.33*(10**(np.log10(df.Mass_HI)+HI_corrector(mc, 0, df.V3k.values)))\n",
    "df['logMb'] = np.log10(df.Mb.values)\n",
    "\n",
    "## stellar mass to light ratio \n",
    "N = len(df)\n",
    "df['logMs_riz_color'] = df['logMs_riz'] + np.random.normal(0, 0.1, size=N)\n",
    "df['Ms_riz_color'] = 10**df.logMs_riz_color\n",
    "df['Mb_color'] = df.Ms_riz_color + 1.33*(10**(np.log10(df.Mass_HI)+\n",
    "                                              HI_corrector(mc, 0, df.V3k.values)))\n",
    "df['logMb_color'] = np.log10(df.Mb_color.values)\n",
    "\n",
    "\n",
    "## uncertainty in the gas mass multiplier K_g \n",
    "N = len(df)\n",
    "df['logMs_riz_gas'] = df['logMs_riz']\n",
    "df['Ms_riz_gas'] = 10**df.logMs_riz_gas\n",
    "df['Mb_gas'] = df.Ms_riz_gas + (1.33+np.random.normal(0, 0.1, size=N))*(10**(np.log10(df.Mass_HI)+HI_corrector(mc, 0, df.V3k.values)))\n",
    "df['logMb_gas'] = np.log10(df.Mb_gas.values)\n",
    "\n",
    "\n",
    "## Uncertainty of the color\n",
    "N = len(df)\n",
    "df['logMs_riz_all'] = beta + (alfa+np.random.normal(0, 0.010, size=N))*df.gi - \\\n",
    "                        0.4*df[[\"Mr_75\", \"Mi_75\", \"Mz_75\"]].mean(axis=1) + \\\n",
    "                        np.random.normal(0, 0.10, size=N) + 0.4*np.random.normal(0, 0.05, size=N)\n",
    "df['Ms_riz_all'] = 10**df.logMs_riz_all\n",
    "\n",
    "\n",
    "e = np.zeros(N)\n",
    "for i, vel in enumerate(df.V3k.values):\n",
    "    e[i] = np.random.normal(0, rms(vel, Cadj_rms[0], Cadj_rms[1], Cadj_rms[2], Cadj_rms[3]))\n",
    "    \n",
    "emhi = np.zeros(N)\n",
    "for i, em in enumerate(df.eMass_HI.values):\n",
    "    emhi[i] = np.random.normal(0, em)  \n",
    "    \n",
    "df['Mb_all'] = df.Ms_riz_all + (1.33+np.random.normal(0, 0.1, size=N))*(10**(np.log10(df.Mass_HI+emhi)+\n",
    "                                                                             HI_corrector(np.random.normal(mc, 0.85E-5, size=N), 0, df.V3k.values)+e))\n",
    "\n",
    "# # \n",
    "# df['Mb_all'] = df.Ms_riz + 1.33*(10**(np.log10(df.Mass_HI+emhi)+\n",
    "#                                               HI_corrector(mc, 0, df.V3k.values)))\n",
    "# # df['Mb_all'] = df.Ms_riz + (1.33)*(10**(np.log10(df.Mass_HI)+HI_corrector(np.random.normal(mc, 0.85E-5, size=N), 0, df.V3k.values)+e))\n",
    "\n",
    "\n",
    "df['logMb_all'] = np.log10(df.Mb_all.values)"
   ]
  },
  {
   "cell_type": "code",
   "execution_count": 15,
   "metadata": {},
   "outputs": [
    {
     "data": {
      "text/plain": [
       "Index(['flag', 'DM_av', 'eDM', 'DM_riz', 'eDM_riz', 'DM_W1', 'eDM_W1', 'DM_75',\n",
       "       '1PGC', 'Nest', 'logMs_riz', 'logMs_W1', 'logM_gas', 'logMb', 'Vhel',\n",
       "       'V3k', 'v3k', 'f', 'lgWmxi', 'elgWi', 'F21', 'eF21', 'inc', 'einc',\n",
       "       'g***', 'r***', 'i***', 'z***', 'w1***', 'Qs', 'Qw', 'RA', 'DE',\n",
       "       'GLong', 'GLat', 'SGL', 'SGB', 'Nkt', 'N15', 'SGLg', 'SGBg', 'Vhg',\n",
       "       'Vlsg', 'V3kg', 'fg', 'Vmod', 'D75', 'logD75', 'Mg_75', 'Mr_75',\n",
       "       'Mi_75', 'Mz_75', 'M1_75', 'gi', 'F', 'e_F', 'Flux', 'F21_av', 'Ms_W1',\n",
       "       'Mass_HI', 'eMass_HI', 'logMs_r', 'logMs_i', 'logMs_z', 'Ms_riz', 'Mb',\n",
       "       'logMs_riz_color', 'Ms_riz_color', 'Mb_color', 'logMb_color',\n",
       "       'logMs_riz_gas', 'Ms_riz_gas', 'Mb_gas', 'logMb_gas', 'logMs_riz_all',\n",
       "       'Ms_riz_all', 'Mb_all', 'logMb_all'],\n",
       "      dtype='object')"
      ]
     },
     "execution_count": 15,
     "metadata": {},
     "output_type": "execute_result"
    }
   ],
   "source": [
    "df.columns"
   ]
  },
  {
   "cell_type": "code",
   "execution_count": null,
   "metadata": {},
   "outputs": [],
   "source": []
  },
  {
   "cell_type": "code",
   "execution_count": 16,
   "metadata": {},
   "outputs": [],
   "source": [
    "dff = df[(df.Qs>2)&(df.elgWi>0)&(df.lgWmxi>0)&(df.V3k>4000)]\n",
    "\n",
    "m0 = 3.418\n",
    "b0 = 10.359\n",
    "    \n",
    "logW = dff.lgWmxi.values\n",
    "logWe = dff.elgWi.values\n",
    "logMass = dff.logMb.values"
   ]
  },
  {
   "cell_type": "code",
   "execution_count": 17,
   "metadata": {},
   "outputs": [
    {
     "data": {
      "text/plain": [
       "4.761904761904762"
      ]
     },
     "execution_count": 17,
     "metadata": {},
     "output_type": "execute_result"
    },
    {
     "data": {
      "image/png": "[encoded data removed]",
      "text/plain": [
       "<Figure size 432x288 with 1 Axes>"
      ]
     },
     "metadata": {
      "needs_background": "light"
     },
     "output_type": "display_data"
    }
   ],
   "source": [
    "x = 100*dff.eF21/dff.F21\n",
    "\n",
    "plt.hist(x)\n",
    "\n",
    "np.median(x)"
   ]
  },
  {
   "cell_type": "code",
   "execution_count": null,
   "metadata": {},
   "outputs": [],
   "source": []
  },
  {
   "cell_type": "code",
   "execution_count": 18,
   "metadata": {},
   "outputs": [
    {
     "name": "stdout",
     "output_type": "stream",
     "text": [
      "0.08303491369648257\n"
     ]
    },
    {
     "data": {
      "image/png": "[encoded data removed]",
      "text/plain": [
       "<Figure size 500x500 with 1 Axes>"
      ]
     },
     "metadata": {
      "needs_background": "light"
     },
     "output_type": "display_data"
    }
   ],
   "source": [
    "logW_simul = (logMass-b0) / m0 + 2.5\n",
    "\n",
    "fig = py.figure(figsize=(5, 5), dpi=100)    \n",
    "fig.subplots_adjust(wspace=0, top=0.92, bottom=0.12, left=0.06, right=0.98)\n",
    "gs = gridspec.GridSpec(1,1) ; p=0\n",
    "ax = plt.subplot(gs[p]) ; p+=1\n",
    "\n",
    "w = np.linspace(1.85,2.9,100)\n",
    "ax.plot(w, m0*(w-2.5) + b0, 'k-')\n",
    "## ax.plot(logW_simul, logMass, 'k.')\n",
    "ax.plot(logW_simul, dff.logMb_color.values, 'r.', alpha=0.05)\n",
    "\n",
    "delta = logMass - dff.logMb_color.values\n",
    "print(np.std(delta))"
   ]
  },
  {
   "cell_type": "code",
   "execution_count": 19,
   "metadata": {},
   "outputs": [
    {
     "name": "stdout",
     "output_type": "stream",
     "text": [
      "0.008305776643130964\n"
     ]
    },
    {
     "data": {
      "image/png": "[encoded data removed]",
      "text/plain": [
       "<Figure size 500x500 with 1 Axes>"
      ]
     },
     "metadata": {
      "needs_background": "light"
     },
     "output_type": "display_data"
    }
   ],
   "source": [
    "logW_simul = (logMass-b0) / m0 + 2.5\n",
    "\n",
    "fig = py.figure(figsize=(5, 5), dpi=100)    \n",
    "fig.subplots_adjust(wspace=0, top=0.92, bottom=0.12, left=0.06, right=0.98)\n",
    "gs = gridspec.GridSpec(1,1) ; p=0\n",
    "ax = plt.subplot(gs[p]) ; p+=1\n",
    "\n",
    "w = np.linspace(1.85,2.9,100)\n",
    "ax.plot(w, m0*(w-2.5) + b0, 'k-')\n",
    "## ax.plot(logW_simul, logMass, 'k.')\n",
    "ax.plot(logW_simul, dff.logMb_gas.values, 'r.', alpha=0.1)\n",
    "\n",
    "delta = logMass - dff.logMb_gas.values\n",
    "print(np.std(delta))"
   ]
  },
  {
   "cell_type": "code",
   "execution_count": 20,
   "metadata": {},
   "outputs": [
    {
     "data": {
      "text/plain": [
       "(5152, 5152)"
      ]
     },
     "execution_count": 20,
     "metadata": {},
     "output_type": "execute_result"
    }
   ],
   "source": [
    "len(logWe), len(logW_simul)"
   ]
  },
  {
   "cell_type": "code",
   "execution_count": 21,
   "metadata": {},
   "outputs": [
    {
     "data": {
      "text/plain": [
       "(array([5.1e+03, 4.4e+01, 4.0e+00, 1.0e+00, 1.0e+00, 1.0e+00, 0.0e+00,\n",
       "        0.0e+00, 0.0e+00, 1.0e+00]),\n",
       " array([0.003 , 0.0809, 0.1588, 0.2367, 0.3146, 0.3925, 0.4704, 0.5483,\n",
       "        0.6262, 0.7041, 0.782 ]),\n",
       " <a list of 10 Patch objects>)"
      ]
     },
     "execution_count": 21,
     "metadata": {},
     "output_type": "execute_result"
    },
    {
     "data": {
      "image/png": "[encoded data removed]",
      "text/plain": [
       "<Figure size 432x288 with 1 Axes>"
      ]
     },
     "metadata": {
      "needs_background": "light"
     },
     "output_type": "display_data"
    }
   ],
   "source": [
    "plt.hist(logWe)"
   ]
  },
  {
   "cell_type": "code",
   "execution_count": 22,
   "metadata": {},
   "outputs": [
    {
     "name": "stdout",
     "output_type": "stream",
     "text": [
      "0.10499661263164996\n"
     ]
    },
    {
     "data": {
      "image/png": "[encoded data removed]",
      "text/plain": [
       "<Figure size 500x500 with 1 Axes>"
      ]
     },
     "metadata": {
      "needs_background": "light"
     },
     "output_type": "display_data"
    }
   ],
   "source": [
    "logW_simul = (logMass-b0) / m0 + 2.5\n",
    "\n",
    "fig = py.figure(figsize=(5, 5), dpi=100)    \n",
    "fig.subplots_adjust(wspace=0, top=0.92, bottom=0.12, left=0.06, right=0.98)\n",
    "gs = gridspec.GridSpec(1,1) ; p=0\n",
    "ax = plt.subplot(gs[p]) ; p+=1\n",
    "\n",
    "w = np.linspace(1.85,2.9,100)\n",
    "ax.plot(w, m0*(w-2.5) + b0, 'k-')\n",
    "\n",
    "N = len(logW_simul)\n",
    "ew = np.zeros(N)\n",
    "for i, e in enumerate(logWe):\n",
    "    ew[i] = np.random.normal(0, e)  \n",
    "\n",
    "\n",
    "logW_disp = logW_simul + ew\n",
    "ax.plot(logW_disp, logMass, 'r.', alpha=0.1)\n",
    "\n",
    "delta = logMass - (m0*(logW_disp-2.5) + b0)\n",
    "print(np.std(delta))"
   ]
  },
  {
   "cell_type": "code",
   "execution_count": 23,
   "metadata": {},
   "outputs": [
    {
     "data": {
      "text/plain": [
       "0.023439052795031057"
      ]
     },
     "execution_count": 23,
     "metadata": {},
     "output_type": "execute_result"
    },
    {
     "data": {
      "image/png": "[encoded data removed]",
      "text/plain": [
       "<Figure size 432x288 with 1 Axes>"
      ]
     },
     "metadata": {
      "needs_background": "light"
     },
     "output_type": "display_data"
    }
   ],
   "source": [
    "plt.hist(logWe, bins=np.linspace(0,0.2,10))\n",
    "\n",
    "np.mean(logWe)"
   ]
  },
  {
   "cell_type": "code",
   "execution_count": null,
   "metadata": {},
   "outputs": [],
   "source": []
  },
  {
   "cell_type": "code",
   "execution_count": 24,
   "metadata": {},
   "outputs": [
    {
     "name": "stdout",
     "output_type": "stream",
     "text": [
      "0.15333054772438426\n"
     ]
    },
    {
     "data": {
      "image/png": "[encoded data removed]",
      "text/plain": [
       "<Figure size 500x500 with 1 Axes>"
      ]
     },
     "metadata": {
      "needs_background": "light"
     },
     "output_type": "display_data"
    }
   ],
   "source": [
    "logW_simul = (logMass-b0) / m0 + 2.5\n",
    "\n",
    "fig = py.figure(figsize=(5, 5), dpi=100)    \n",
    "fig.subplots_adjust(wspace=0, top=0.92, bottom=0.12, left=0.06, right=0.98)\n",
    "gs = gridspec.GridSpec(1,1) ; p=0\n",
    "ax = plt.subplot(gs[p]) ; p+=1\n",
    "\n",
    "w = np.linspace(1.85,2.9,100)\n",
    "ax.plot(w, m0*(w-2.5) + b0, 'k-')\n",
    "\n",
    "N = len(logW_simul)\n",
    "ew = np.zeros(N)\n",
    "for i, e in enumerate(logWe):\n",
    "    ew[i] = np.random.normal(0, e)  \n",
    "\n",
    "logW_disp = logW_simul + ew  #\n",
    "ax.plot(logW_disp, dff.logMb_all.values, 'g.', alpha=0.1)\n",
    "\n",
    "delta = dff.logMb_all.values - (m0*(logW_disp-2.5) + b0)\n",
    "print(np.std(delta))"
   ]
  },
  {
   "cell_type": "code",
   "execution_count": null,
   "metadata": {},
   "outputs": [],
   "source": []
  },
  {
   "cell_type": "code",
   "execution_count": null,
   "metadata": {},
   "outputs": [],
   "source": []
  },
  {
   "cell_type": "code",
   "execution_count": 25,
   "metadata": {},
   "outputs": [
    {
     "name": "stdout",
     "output_type": "stream",
     "text": [
      "0.1826025501946515\n"
     ]
    },
    {
     "data": {
      "image/png": "[encoded data removed]",
      "text/plain": [
       "<Figure size 432x288 with 1 Axes>"
      ]
     },
     "metadata": {
      "needs_background": "light"
     },
     "output_type": "display_data"
    }
   ],
   "source": [
    "plt.plot(logW, logMass, 'k.')\n",
    "\n",
    "delta = logMass - (m0*(logW-2.5) + b0)\n",
    "print(np.std(delta[logW>2.1]))"
   ]
  },
  {
   "cell_type": "code",
   "execution_count": null,
   "metadata": {},
   "outputs": [],
   "source": []
  },
  {
   "cell_type": "code",
   "execution_count": 26,
   "metadata": {},
   "outputs": [
    {
     "data": {
      "text/plain": [
       "0.11098540444580994"
      ]
     },
     "execution_count": 26,
     "metadata": {},
     "output_type": "execute_result"
    }
   ],
   "source": [
    "np.sqrt(0.1826**2-0.145**2)"
   ]
  },
  {
   "cell_type": "code",
   "execution_count": null,
   "metadata": {},
   "outputs": [],
   "source": []
  },
  {
   "cell_type": "code",
   "execution_count": null,
   "metadata": {},
   "outputs": [],
   "source": []
  },
  {
   "cell_type": "code",
   "execution_count": null,
   "metadata": {},
   "outputs": [],
   "source": []
  }
 ],
 "metadata": {
  "kernelspec": {
   "display_name": "Python 3",
   "language": "python",
   "name": "python3"
  },
  "language_info": {
   "codemirror_mode": {
    "name": "ipython",
    "version": 3
   },
   "file_extension": ".py",
   "mimetype": "text/x-python",
   "name": "python",
   "nbconvert_exporter": "python",
   "pygments_lexer": "ipython3",
   "version": "3.8.5"
  }
 },
 "nbformat": 4,
 "nbformat_minor": 4
}
