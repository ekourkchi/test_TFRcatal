{
 "cells": [
  {
   "cell_type": "code",
   "execution_count": null,
   "metadata": {},
   "outputs": [],
   "source": [
    "import sys\n",
    "import time\n",
    "import os\n",
    "import subprocess\n",
    "import math\n",
    "import matplotlib.pyplot as plt\n",
    "import numpy as np\n",
    "import pylab as py\n",
    "import random\n",
    "import pandas as pd\n",
    "from matplotlib import gridspec\n",
    "from scipy import polyval, polyfit\n",
    "from scipy.optimize import curve_fit\n",
    "from datetime import datetime\n",
    "import time\n",
    "import corner\n",
    "import emcee\n",
    "from scipy.stats import linregress\n",
    "from scipy import interpolate\n",
    "from scipy import polyval, polyfit\n",
    "from scipy import odr\n",
    "import warnings\n",
    "warnings.filterwarnings('ignore')"
   ]
  },
  {
   "cell_type": "code",
   "execution_count": null,
   "metadata": {},
   "outputs": [],
   "source": [
    "####################################### Set Axes\n",
    "def set_axes(ax, xlim=None, ylim=None, fontsize=16, twinx=True, twiny=True, minor=True, inout='in'):\n",
    "        \n",
    "        if not ylim is None:\n",
    "            ax.set_ylim(ylim)\n",
    "        else:\n",
    "            ylim = ax.get_ylim() \n",
    "            \n",
    "        if not xlim is None:    \n",
    "            ax.set_xlim(xlim) \n",
    "        else:\n",
    "            xlim = ax.get_xlim()\n",
    "            \n",
    "        ax.tick_params(which='major', length=6, width=1., direction=inout)\n",
    "#         if minor:\n",
    "        ax.tick_params(which='minor', length=3, color='#000033', width=1.0, direction=inout)  \n",
    "        \n",
    "        if twiny:\n",
    "            y_ax = ax.twinx()\n",
    "            y_ax.set_ylim(ylim)\n",
    "            y_ax.set_yticklabels([])\n",
    "            y_ax.minorticks_on()\n",
    "            y_ax.tick_params(which='major', length=6, width=1., direction=inout)\n",
    "            if minor:\n",
    "                y_ax.tick_params(which='minor', length=3, color='#000033', width=1.0, direction=inout) \n",
    "        \n",
    "        if twinx:\n",
    "            x_ax = ax.twiny()\n",
    "            x_ax.set_xlim(xlim)\n",
    "            x_ax.set_xticklabels([])\n",
    "            x_ax.minorticks_on()\n",
    "            x_ax.tick_params(which='major', length=6, width=1.0, direction=inout)\n",
    "            if minor:\n",
    "                x_ax.tick_params(which='minor', length=3, color='#000033', width=1.0, direction=inout)     \n",
    "\n",
    "        for tick in ax.xaxis.get_major_ticks():\n",
    "                    tick.label.set_fontsize(fontsize) \n",
    "        for tick in ax.yaxis.get_major_ticks():\n",
    "                    tick.label.set_fontsize(fontsize) \n",
    "        \n",
    "        return x_ax, y_ax"
   ]
  },
  {
   "cell_type": "code",
   "execution_count": null,
   "metadata": {},
   "outputs": [],
   "source": [
    "\n",
    "# len(calib['So'].join(df[[\"V3k\", \"Vmod\", \"Qs\", \"Qw\", \"F21\", 'eF21', 'elgWi']]).dropna())"
   ]
  },
  {
   "cell_type": "code",
   "execution_count": null,
   "metadata": {},
   "outputs": [],
   "source": [
    "# df = pd.read_csv(\"edd_cf4_refined.csv\", sep='|')\n",
    "df = pd.read_csv(\"btfr_brent_updated.csv\", sep='|')\n",
    "\n",
    "for col in df.columns:\n",
    "    newcol = col.strip()\n",
    "    df.rename(columns={col:newcol}, inplace=True)\n",
    "\n",
    "df = df.rename(columns={\"e_F21\":\"eF21\"})\n",
    "\n",
    "df = df.set_index(\"PGC\")\n",
    "print(df.columns)\n",
    "print(len(df))\n",
    "\n",
    "df.head()"
   ]
  },
  {
   "cell_type": "code",
   "execution_count": null,
   "metadata": {},
   "outputs": [],
   "source": []
  },
  {
   "cell_type": "code",
   "execution_count": null,
   "metadata": {},
   "outputs": [],
   "source": [
    "df['Vmod'] = df.fg*df.Vlsg   # df.f*df.v3k # \n",
    "df['D75'] = df.Vmod / 75.\n",
    "df['logD75'] = np.log10(df.D75)\n",
    "df['DM_75'] = 5*df.logD75 + 25 \n",
    "df['Mg_75'] = df['g***'] - df.DM_75\n",
    "df['Mr_75'] = df['r***'] - df.DM_75\n",
    "df['Mi_75'] = df['i***'] - df.DM_75\n",
    "df['Mz_75'] = df['z***'] - df.DM_75\n",
    "df['M1_75'] = np.asarray([np.float64(x) for x in df['w1***'].values]) - df.DM_75.values\n",
    "\n",
    "df['gi'] = df['g***'] - df['i***']"
   ]
  },
  {
   "cell_type": "code",
   "execution_count": null,
   "metadata": {},
   "outputs": [],
   "source": [
    "len(df)"
   ]
  },
  {
   "cell_type": "code",
   "execution_count": null,
   "metadata": {},
   "outputs": [],
   "source": [
    "df_alfa = pd.read_csv(\"ALFALFA.csv\", sep='|')\n",
    "for col in df.columns:\n",
    "    newcol = col.strip()\n",
    "    df.rename(columns={col:newcol}, inplace=True)\n",
    "\n",
    "df_alfa = df_alfa.set_index(\"PGC\")\n",
    "df_alfa = df_alfa[[\"F\", \"e_F\"]]\n",
    "df_alfa.head()"
   ]
  },
  {
   "cell_type": "code",
   "execution_count": null,
   "metadata": {},
   "outputs": [],
   "source": [
    "df_adhi = pd.read_csv(\"ADHI.csv\", sep='|')\n",
    "for col in df.columns:\n",
    "    newcol = col.strip()\n",
    "    df.rename(columns={col:newcol}, inplace=True)\n",
    "df_adhi = df_adhi.set_index(\"PGC\")\n",
    "df_adhi = df_adhi[[\"Flux\"]]\n",
    "\n",
    "df_adhi.head()"
   ]
  },
  {
   "cell_type": "code",
   "execution_count": null,
   "metadata": {},
   "outputs": [],
   "source": [
    "df = df.join(df_alfa, how='left')\n",
    "df = df.join(df_adhi, how='left')\n",
    "\n",
    "df = df.rename(columns={\"Vls\":\"V3k\"})\n",
    "\n",
    "df.head()"
   ]
  },
  {
   "cell_type": "code",
   "execution_count": null,
   "metadata": {},
   "outputs": [],
   "source": [
    "df['F21_av'] = df[[\"F\", \"Flux\"]].mean(axis=1)\n",
    "\n",
    "dg = df[[\"F21\", \"eF21\", \"F\", \"e_F\", \"Flux\", \"F21_av\"]]\n",
    "dg['F21_'] = dg.apply(lambda X: X.F21_av if ~np.isnan(X.F21_av) else X.F21, axis=1)\n",
    "dg['F21_e'] = dg.apply(lambda X: X.e_F if ~np.isnan(X.F) else X.eF21, axis=1)\n",
    "\n",
    "\n",
    "adhi_list = [5072, 9670, 49734, 51401, 1737674, 3091777, 5807477]\n",
    "dg.loc[adhi_list]['F21_'] = dg.loc[adhi_list].Flux   # using ADHI HI flux values\n",
    "\n",
    "\n",
    "len(dg)\n",
    "\n",
    "df[\"F21\"] = dg.F21_\n",
    "df[\"eF21\"] = dg.F21_e\n",
    "\n",
    "df['Mass_HI'] = 2.356E5 * df.F21 * (df.D75**2)"
   ]
  },
  {
   "cell_type": "code",
   "execution_count": null,
   "metadata": {},
   "outputs": [],
   "source": [
    "new_drop = pd.read_csv(\"drop_january2021.bar\", sep='|')\n",
    "\n",
    "df = df.drop(new_drop.PGC.values, errors='ignore')\n",
    "\n",
    "len(df)"
   ]
  },
  {
   "cell_type": "code",
   "execution_count": null,
   "metadata": {},
   "outputs": [],
   "source": [
    "def linear(x, m, b):\n",
    "    return m*x+b\n",
    "\n",
    "def linear_m(x, m):\n",
    "    return m*x"
   ]
  },
  {
   "cell_type": "code",
   "execution_count": null,
   "metadata": {},
   "outputs": [],
   "source": [
    "def malmquister(df, alfa, beta, std=False):\n",
    "    df['logMs_riz'] = beta + alfa*df.gi - 0.4*(df['Mr_75']+df['Mi_75']+df['Mz_75'])/3.\n",
    "    df['Ms_riz'] = 10**df.logMs_riz\n",
    "    df[\"logMs_av\"] = df[\"logMs_riz\"]\n",
    "\n",
    "\n",
    "    dff = df[(df.Qs>2)&(df.elgWi>0)&(df.lgWmxi>0)&(df.Mass_HI>0)].dropna()\n",
    "    X0 = dff.lgWmxi.values\n",
    "    Y0 = dff.logMs_av.values-np.log10(dff.Mass_HI.values)\n",
    "    V3k = dff.V3k.values\n",
    "\n",
    "\n",
    "    x = np.linspace(2.2, 2.9, 100)\n",
    "    ind, = np.where((X0>2.2)&(dff.V3k>0)&(dff.V3k<2000)&(X0<2.9))\n",
    "    fit, cov = curve_fit(linear, X0[ind], Y0[ind])\n",
    "    m, b = fit[0], fit[1]\n",
    "\n",
    "\n",
    "    Y = Y0-(m*X0+b)\n",
    "    X = V3k\n",
    "    X = X[X0>2.2]\n",
    "    Y = Y[X0>2.2]\n",
    "    x = np.linspace(0,20000,1000)\n",
    "    fit, cov = curve_fit(linear_m, X[(X>4000)&(X<10000)], Y[(X>4000)&(X<10000)])\n",
    "    mc = fit[0]\n",
    "    \n",
    "    if not std:\n",
    "        return m, b, mc\n",
    "    else:\n",
    "        return m, b, mc, np.sqrt(cov)"
   ]
  },
  {
   "cell_type": "code",
   "execution_count": null,
   "metadata": {
    "scrolled": false
   },
   "outputs": [],
   "source": [
    "malmquister(df, 0.536, 1.616, std=True)"
   ]
  },
  {
   "cell_type": "code",
   "execution_count": null,
   "metadata": {},
   "outputs": [],
   "source": [
    "def HI_corrector(mc, V3k):\n",
    "    return mc*V3k"
   ]
  },
  {
   "cell_type": "code",
   "execution_count": null,
   "metadata": {},
   "outputs": [],
   "source": [
    "def Chi2(theta):\n",
    "    \n",
    "    alpha = theta[0]\n",
    "    beta = theta[1]\n",
    "    slope = theta[2]\n",
    "    zp = theta[3]\n",
    "    \n",
    "    m, b, mc = malmquister(df, alpha, beta)\n",
    "    \n",
    "    ###########################################################\n",
    "    df['Mb'] = df.Ms_riz + 1.33*(10**(np.log10(df.Mass_HI)+HI_corrector(mc, df.V3k.values)))\n",
    "    df['logMb'] = np.log10(df.Mb.values)\n",
    "    \n",
    "    dff = df[(df.Qs>2)&(df.elgWi>0)&(df.lgWmxi>0)&(df.V3k>4000)]\n",
    "    dff = dff[[\"lgWmxi\",\"elgWi\",\"logMb\"]].dropna()\n",
    "    \n",
    "    logW = dff.lgWmxi.values\n",
    "    logWe = dff.elgWi.values\n",
    "    logMass = dff.logMb.values\n",
    "    \n",
    "    logW_p = (logMass-zp)/slope+2.5\n",
    "        \n",
    "    chi2 = (logW-logW_p)**2/logWe**2\n",
    "    \n",
    "    return np.nansum(chi2)\n",
    "\n",
    "\n",
    "def lnlike(theta):\n",
    "    \n",
    "    xi2 = Chi2(theta)\n",
    "    \n",
    "    return -0.5*xi2\n",
    "\n",
    "\n",
    "def lnprior(theta):\n",
    "    \n",
    "    if theta[0]<0:\n",
    "        return -np.inf\n",
    "    if theta[2]>0 and theta[2]<10:   # slope\n",
    "            if theta[3]>0 and theta[3]<20: # zp\n",
    "                return 0\n",
    "\n",
    "    return -np.inf\n",
    "\n",
    "\n",
    "def lnprob(theta):\n",
    "    \n",
    "    lp = lnprior(theta)\n",
    "    if not np.isfinite(lp) :\n",
    "        return -np.inf    \n",
    "    return lp + lnlike(theta)"
   ]
  },
  {
   "cell_type": "code",
   "execution_count": null,
   "metadata": {},
   "outputs": [],
   "source": [
    "t1 =  datetime.now()\n",
    "###########################################\n",
    "\n",
    "ndim, nwalkers = 4, 64\n",
    "\n",
    "p0 = [np.random.randn(ndim) for i in range(nwalkers)]\n",
    "\n",
    "sampler = emcee.EnsembleSampler(nwalkers, ndim, lnprob)\n",
    "\n",
    "sampler.reset()\n",
    "sampler.run_mcmc(p0, 10000)\n",
    "\n",
    "###########################################\n",
    "t2 =  datetime.now()\n",
    "print(\"Execution time:\")\n",
    "print(t2-t1)"
   ]
  },
  {
   "cell_type": "code",
   "execution_count": null,
   "metadata": {},
   "outputs": [],
   "source": [
    "samples = sampler.chain[:, 1000:, :].reshape((-1, ndim))\n",
    "\n",
    "npzName = \"MLratio_riz_gi.npz\"\n",
    "np.savez(npzName, samples)\n",
    "\n",
    "npzfile = np.load(npzName)\n",
    "print(\"npz attributes: \", npzfile.files)\n",
    "samples_ = npzfile['arr_0']"
   ]
  },
  {
   "cell_type": "code",
   "execution_count": null,
   "metadata": {},
   "outputs": [],
   "source": [
    "samples_ = samples_[np.where(samples_[:,0]>0)]\n",
    "samples_ = samples_[(samples_[:,1]>1.56)&(samples_[:,1]<2)]\n",
    "\n",
    "# samples_ = samples_[np.where(samples_[:,2]>4)]\n",
    "samples_ = samples_[np.where(samples_[:,3]>10.25)]\n",
    "\n",
    "\n",
    "# samples_[:,1] -= 0.4*4.58\n",
    "\n",
    "theta = map(lambda v: (v[1], v[2]-v[1], v[1]-v[0]),\n",
    "                            zip(*np.percentile(samples_, \n",
    "                            [16, 50, 84],\n",
    "                            axis=0)))\n",
    "\n",
    "labels = [r\"$\\alpha_0$\", r\"$\\beta_0$\", r\"$\\/\\/\\/\\/Slope$\", r\"$\\/\\/ZP$\"]\n",
    "# labels = [r\"$\\alpha_0$\", r\"$\\/\\/\\/\\/Slope$\", r\"$\\/\\/ZP$\"]\n",
    "\n",
    "truths=[t[0] for t in theta]\n",
    "fig = corner.corner(samples_, truth_color='r', labels=labels,\n",
    "                    truths=truths, \n",
    "                    quantiles=[0.16, 0.5, 0.84], \n",
    "                    show_titles=True, \n",
    "                    title_kwargs={\"fontsize\": 16}, \n",
    "                    title_fmt=\".3f\")\n",
    "\n",
    "\n",
    "for ax in fig.get_axes():\n",
    "    ax.tick_params(axis='both', labelsize=12)\n",
    "    \n",
    "    lbl = ax.xaxis.get_label()\n",
    "    lbl.set_fontsize(20)\n",
    "    txt = lbl.get_text().strip()\n",
    "    lbl.set_text(txt)\n",
    "    lbl.set_linespacing(20)\n",
    "    lbl = ax.yaxis.get_label()\n",
    "    lbl.set_fontsize(20)\n",
    "    txt = lbl.get_text().strip()\n",
    "    lbl.set_text(txt)\n",
    "\n",
    "for ax in fig.get_axes():\n",
    "    Ylm = ax.get_ylim() ; Xlm = ax.get_xlim()\n",
    "    x0 = -0.5*Xlm[0]+1.5*Xlm[1]\n",
    "    y0 = 0.2*Ylm[0]+0.80*Ylm[1]\n",
    "    ax.text(x0, y0, \"<riz>\", fontsize=20, color='maroon')\n",
    "    \n",
    "    break"
   ]
  },
  {
   "cell_type": "code",
   "execution_count": null,
   "metadata": {},
   "outputs": [],
   "source": [
    "malmquister(df, 0.680, 1.604)"
   ]
  },
  {
   "cell_type": "code",
   "execution_count": null,
   "metadata": {},
   "outputs": [],
   "source": []
  }
 ],
 "metadata": {
  "kernelspec": {
   "display_name": "Python 3",
   "language": "python",
   "name": "python3"
  },
  "language_info": {
   "codemirror_mode": {
    "name": "ipython",
    "version": 3
   },
   "file_extension": ".py",
   "mimetype": "text/x-python",
   "name": "python",
   "nbconvert_exporter": "python",
   "pygments_lexer": "ipython3",
   "version": "3.8.5"
  }
 },
 "nbformat": 4,
 "nbformat_minor": 4
}
