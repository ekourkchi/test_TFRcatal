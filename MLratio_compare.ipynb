{
 "cells": [
  {
   "cell_type": "code",
   "execution_count": 1,
   "metadata": {},
   "outputs": [],
   "source": [
    "import sys\n",
    "import time\n",
    "import os\n",
    "import subprocess\n",
    "import math\n",
    "import matplotlib.pyplot as plt\n",
    "import numpy as np\n",
    "import pylab as py\n",
    "import random\n",
    "import pandas as pd\n",
    "from matplotlib import gridspec\n",
    "from scipy import polyval, polyfit\n",
    "from scipy.optimize import curve_fit\n",
    "from datetime import datetime\n",
    "import time\n",
    "import corner\n",
    "import emcee\n",
    "from scipy.stats import linregress\n",
    "from scipy import interpolate\n",
    "from scipy import polyval, polyfit\n",
    "from scipy import odr\n",
    "from ltsfit.lts_linefit import lts_linefit"
   ]
  },
  {
   "cell_type": "code",
   "execution_count": null,
   "metadata": {},
   "outputs": [],
   "source": []
  },
  {
   "cell_type": "code",
   "execution_count": 14,
   "metadata": {},
   "outputs": [
    {
     "data": {
      "text/html": [
       "<div>\n",
       "<style scoped>\n",
       "    .dataframe tbody tr th:only-of-type {\n",
       "        vertical-align: middle;\n",
       "    }\n",
       "\n",
       "    .dataframe tbody tr th {\n",
       "        vertical-align: top;\n",
       "    }\n",
       "\n",
       "    .dataframe thead th {\n",
       "        text-align: right;\n",
       "    }\n",
       "</style>\n",
       "<table border=\"1\" class=\"dataframe\">\n",
       "  <thead>\n",
       "    <tr style=\"text-align: right;\">\n",
       "      <th></th>\n",
       "      <th>DM_75</th>\n",
       "      <th>DMi_fid</th>\n",
       "    </tr>\n",
       "    <tr>\n",
       "      <th>PGC</th>\n",
       "      <th></th>\n",
       "      <th></th>\n",
       "    </tr>\n",
       "  </thead>\n",
       "  <tbody>\n",
       "    <tr>\n",
       "      <th>4</th>\n",
       "      <td>34.011709</td>\n",
       "      <td>33.421800</td>\n",
       "    </tr>\n",
       "    <tr>\n",
       "      <th>16</th>\n",
       "      <td>34.491034</td>\n",
       "      <td>34.618880</td>\n",
       "    </tr>\n",
       "    <tr>\n",
       "      <th>55</th>\n",
       "      <td>34.167913</td>\n",
       "      <td>33.807610</td>\n",
       "    </tr>\n",
       "    <tr>\n",
       "      <th>68</th>\n",
       "      <td>35.108989</td>\n",
       "      <td>34.812386</td>\n",
       "    </tr>\n",
       "    <tr>\n",
       "      <th>70</th>\n",
       "      <td>34.900087</td>\n",
       "      <td>35.316308</td>\n",
       "    </tr>\n",
       "  </tbody>\n",
       "</table>\n",
       "</div>"
      ],
      "text/plain": [
       "         DM_75    DMi_fid\n",
       "PGC                      \n",
       "4    34.011709  33.421800\n",
       "16   34.491034  34.618880\n",
       "55   34.167913  33.807610\n",
       "68   35.108989  34.812386\n",
       "70   34.900087  35.316308"
      ]
     },
     "execution_count": 14,
     "metadata": {},
     "output_type": "execute_result"
    }
   ],
   "source": [
    "Dist_i = pd.read_csv(\"MLratio_riz_distances_noCorrection.csv\", sep=',')\n",
    "\n",
    "for col in Dist_i.columns:\n",
    "    newcol = col.strip()\n",
    "    Dist_i.rename(columns={col:newcol}, inplace=True)\n",
    "Dist_i = Dist_i.set_index(\"PGC\")\n",
    "Dist_i.rename(columns={\"DMriz_fid\":\"DMi_fid\"}, inplace=True)\n",
    "\n",
    "Dist_i = Dist_i[[\"DM_75\", \"DMi_fid\"]]\n",
    "\n",
    "Dist_i.head()"
   ]
  },
  {
   "cell_type": "code",
   "execution_count": 15,
   "metadata": {},
   "outputs": [
    {
     "data": {
      "text/html": [
       "<div>\n",
       "<style scoped>\n",
       "    .dataframe tbody tr th:only-of-type {\n",
       "        vertical-align: middle;\n",
       "    }\n",
       "\n",
       "    .dataframe tbody tr th {\n",
       "        vertical-align: top;\n",
       "    }\n",
       "\n",
       "    .dataframe thead th {\n",
       "        text-align: right;\n",
       "    }\n",
       "</style>\n",
       "<table border=\"1\" class=\"dataframe\">\n",
       "  <thead>\n",
       "    <tr style=\"text-align: right;\">\n",
       "      <th></th>\n",
       "      <th>DMriz_fid</th>\n",
       "    </tr>\n",
       "    <tr>\n",
       "      <th>PGC</th>\n",
       "      <th></th>\n",
       "    </tr>\n",
       "  </thead>\n",
       "  <tbody>\n",
       "    <tr>\n",
       "      <th>4</th>\n",
       "      <td>33.414343</td>\n",
       "    </tr>\n",
       "    <tr>\n",
       "      <th>16</th>\n",
       "      <td>34.649027</td>\n",
       "    </tr>\n",
       "    <tr>\n",
       "      <th>55</th>\n",
       "      <td>33.813740</td>\n",
       "    </tr>\n",
       "    <tr>\n",
       "      <th>68</th>\n",
       "      <td>34.871102</td>\n",
       "    </tr>\n",
       "    <tr>\n",
       "      <th>70</th>\n",
       "      <td>35.361160</td>\n",
       "    </tr>\n",
       "  </tbody>\n",
       "</table>\n",
       "</div>"
      ],
      "text/plain": [
       "     DMriz_fid\n",
       "PGC           \n",
       "4    33.414343\n",
       "16   34.649027\n",
       "55   33.813740\n",
       "68   34.871102\n",
       "70   35.361160"
      ]
     },
     "execution_count": 15,
     "metadata": {},
     "output_type": "execute_result"
    }
   ],
   "source": [
    "Dist_riz = pd.read_csv(\"MLratio_i_distances_noCorrection.csv\", sep=',')\n",
    "\n",
    "for col in Dist_riz.columns:\n",
    "    newcol = col.strip()\n",
    "    Dist_riz.rename(columns={col:newcol}, inplace=True)\n",
    "Dist_riz = Dist_riz.set_index(\"PGC\")\n",
    "\n",
    "Dist_riz = Dist_riz[[\"DMriz_fid\"]]\n",
    "\n",
    "Dist_riz.head()"
   ]
  },
  {
   "cell_type": "code",
   "execution_count": 16,
   "metadata": {},
   "outputs": [
    {
     "data": {
      "text/html": [
       "<div>\n",
       "<style scoped>\n",
       "    .dataframe tbody tr th:only-of-type {\n",
       "        vertical-align: middle;\n",
       "    }\n",
       "\n",
       "    .dataframe tbody tr th {\n",
       "        vertical-align: top;\n",
       "    }\n",
       "\n",
       "    .dataframe thead th {\n",
       "        text-align: right;\n",
       "    }\n",
       "</style>\n",
       "<table border=\"1\" class=\"dataframe\">\n",
       "  <thead>\n",
       "    <tr style=\"text-align: right;\">\n",
       "      <th></th>\n",
       "      <th>DM_75</th>\n",
       "      <th>DMi_fid</th>\n",
       "      <th>DMriz_fid</th>\n",
       "    </tr>\n",
       "    <tr>\n",
       "      <th>PGC</th>\n",
       "      <th></th>\n",
       "      <th></th>\n",
       "      <th></th>\n",
       "    </tr>\n",
       "  </thead>\n",
       "  <tbody>\n",
       "    <tr>\n",
       "      <th>4</th>\n",
       "      <td>34.011709</td>\n",
       "      <td>33.421800</td>\n",
       "      <td>33.414343</td>\n",
       "    </tr>\n",
       "    <tr>\n",
       "      <th>16</th>\n",
       "      <td>34.491034</td>\n",
       "      <td>34.618880</td>\n",
       "      <td>34.649027</td>\n",
       "    </tr>\n",
       "    <tr>\n",
       "      <th>55</th>\n",
       "      <td>34.167913</td>\n",
       "      <td>33.807610</td>\n",
       "      <td>33.813740</td>\n",
       "    </tr>\n",
       "    <tr>\n",
       "      <th>68</th>\n",
       "      <td>35.108989</td>\n",
       "      <td>34.812386</td>\n",
       "      <td>34.871102</td>\n",
       "    </tr>\n",
       "    <tr>\n",
       "      <th>70</th>\n",
       "      <td>34.900087</td>\n",
       "      <td>35.316308</td>\n",
       "      <td>35.361160</td>\n",
       "    </tr>\n",
       "  </tbody>\n",
       "</table>\n",
       "</div>"
      ],
      "text/plain": [
       "         DM_75    DMi_fid  DMriz_fid\n",
       "PGC                                 \n",
       "4    34.011709  33.421800  33.414343\n",
       "16   34.491034  34.618880  34.649027\n",
       "55   34.167913  33.807610  33.813740\n",
       "68   35.108989  34.812386  34.871102\n",
       "70   34.900087  35.316308  35.361160"
      ]
     },
     "execution_count": 16,
     "metadata": {},
     "output_type": "execute_result"
    }
   ],
   "source": [
    "df = Dist_i.join(Dist_riz)\n",
    "\n",
    "df.head()"
   ]
  },
  {
   "cell_type": "code",
   "execution_count": 18,
   "metadata": {},
   "outputs": [],
   "source": [
    "DM_i = df[\"DMi_fid\"].values\n",
    "DM_riz = df[\"DMriz_fid\"].values\n",
    "DM_75 = df[\"DM_75\"].values"
   ]
  },
  {
   "cell_type": "code",
   "execution_count": 19,
   "metadata": {},
   "outputs": [
    {
     "data": {
      "text/plain": [
       "[<matplotlib.lines.Line2D at 0x7f177e3f64f0>]"
      ]
     },
     "execution_count": 19,
     "metadata": {},
     "output_type": "execute_result"
    },
    {
     "data": {
      "image/png": "[encoded data removed]",
      "text/plain": [
       "<Figure size 432x288 with 1 Axes>"
      ]
     },
     "metadata": {
      "needs_background": "light"
     },
     "output_type": "display_data"
    }
   ],
   "source": [
    "plt.plot(DM_75, DM_i-DM_riz, 'k.')\n",
    "\n",
    "for i in np.arange(-1.0, 0, 0.05):\n",
    "    xp = []\n",
    "    yp = []\n",
    "    for ii in range(len(X)):\n",
    "        xi = X[ii]\n",
    "        if xi>=i and xi<i+0.05:\n",
    "            xp.append(xi)\n",
    "            yp.append(Y[ii])\n",
    "    if len(xp)>0:\n",
    "        \n",
    "        xp = np.asarray(xp)\n",
    "        yp = np.asarray(yp)\n",
    "        \n",
    "        Q1 = np.quantile(yp, 0.005)\n",
    "        Q3 = np.quantile(yp, 0.995)\n",
    "        \n",
    "        xp = xp[((yp>Q1)&(yp<Q3))]\n",
    "        yp = yp[((yp>Q1)&(yp<Q3))]\n",
    "              \n",
    "        if len(xp)>5:\n",
    "            \n",
    "            x  = np.median(xp)\n",
    "            y  = np.median(yp)\n",
    "            yerr = np.std(yp)\n",
    "            \n",
    "            ax.errorbar(x, y, yerr=yerr, fmt='o', \n",
    "                    color='red', ms=6, mfc='white') "
   ]
  },
  {
   "cell_type": "code",
   "execution_count": null,
   "metadata": {},
   "outputs": [],
   "source": []
  },
  {
   "cell_type": "code",
   "execution_count": null,
   "metadata": {},
   "outputs": [],
   "source": []
  },
  {
   "cell_type": "code",
   "execution_count": null,
   "metadata": {},
   "outputs": [],
   "source": []
  }
 ],
 "metadata": {
  "kernelspec": {
   "display_name": "Python 3",
   "language": "python",
   "name": "python3"
  },
  "language_info": {
   "codemirror_mode": {
    "name": "ipython",
    "version": 3
   },
   "file_extension": ".py",
   "mimetype": "text/x-python",
   "name": "python",
   "nbconvert_exporter": "python",
   "pygments_lexer": "ipython3",
   "version": "3.8.5"
  }
 },
 "nbformat": 4,
 "nbformat_minor": 4
}
